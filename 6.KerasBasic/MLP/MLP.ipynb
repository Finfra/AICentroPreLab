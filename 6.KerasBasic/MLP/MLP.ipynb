{
 "cells": [
  {
   "cell_type": "markdown",
   "metadata": {},
   "source": [
    "Trains a simple deep NN on the MNIST dataset.\n",
    "\n",
    "Gets to 98.40% test accuracy after 20 epochs\n",
    "(there is *a lot* of margin for parameter tuning).\n",
    "2 seconds per epoch on a K520 GPU.\n"
   ]
  },
  {
   "cell_type": "code",
   "execution_count": 1,
   "metadata": {},
   "outputs": [],
   "source": [
    "from __future__ import print_function\n",
    "import tensorflow as tf\n",
    "from tensorflow import keras\n",
    "from tensorflow.keras.datasets import mnist\n",
    "from tensorflow.keras.models import Sequential\n",
    "from tensorflow.keras.layers import Dense, Dropout\n",
    "from tensorflow.keras.optimizers import RMSprop"
   ]
  },
  {
   "cell_type": "code",
   "execution_count": 2,
   "metadata": {},
   "outputs": [],
   "source": [
    "batch_size = 128\n",
    "num_classes = 10\n",
    "epochs = 20"
   ]
  },
  {
   "cell_type": "code",
   "execution_count": 3,
   "metadata": {},
   "outputs": [
    {
     "data": {
      "text/plain": [
       "array([[0., 0., 0., ..., 0., 0., 0.],\n",
       "       [1., 0., 0., ..., 0., 0., 0.],\n",
       "       [0., 0., 0., ..., 0., 0., 0.],\n",
       "       ...,\n",
       "       [0., 0., 0., ..., 0., 0., 0.],\n",
       "       [0., 0., 0., ..., 0., 0., 0.],\n",
       "       [0., 0., 0., ..., 0., 1., 0.]], dtype=float32)"
      ]
     },
     "execution_count": 3,
     "metadata": {},
     "output_type": "execute_result"
    }
   ],
   "source": [
    "# # the data, split between train and test sets\n",
    "(x_train, y_train), (x_test, y_test) = mnist.load_data()\n",
    "# x_train = x_train.reshape(60000, 784)\n",
    "# x_test = x_test.reshape(10000, 784)\n",
    "# x_train = x_train.astype('float32')\n",
    "# x_test = x_test.astype('float32')\n",
    "# x_train /= 255\n",
    "# x_test /= 255\n",
    "# print(x_train.shape[0], 'train samples')\n",
    "# print(x_test.shape[0], 'test samples')\n",
    "\n",
    "# # convert class vectors to binary class matrices\n",
    "y_train = keras.utils.to_categorical(y_train, num_classes)\n",
    "# y_test = keras.utils.to_categorical(y_test, num_classes)\n",
    "y_train\n",
    "\n",
    "\n",
    "# print(x_train.shape,y_train.shape,x_test.shape,y_test.shape)"
   ]
  },
  {
   "cell_type": "code",
   "execution_count": 4,
   "metadata": {},
   "outputs": [
    {
     "name": "stdout",
     "output_type": "stream",
     "text": [
      "(60000, 28, 28) (60000,) (10000, 28, 28) (10000,)\n"
     ]
    }
   ],
   "source": [
    "mnist = tf.keras.datasets.mnist\n",
    "(x_train_, y_train_), (x_test_, y_test_)=mnist.load_data()\n",
    "print(x_train_.shape,y_train_.shape,x_test_.shape,y_test_.shape)"
   ]
  },
  {
   "cell_type": "code",
   "execution_count": 5,
   "metadata": {},
   "outputs": [
    {
     "data": {
      "text/plain": [
       "<matplotlib.image.AxesImage at 0x7f09fc197f98>"
      ]
     },
     "execution_count": 5,
     "metadata": {},
     "output_type": "execute_result"
    },
    {
     "data": {
      "image/png": "[encoded data removed]",
      "text/plain": [
       "<Figure size 432x288 with 1 Axes>"
      ]
     },
     "metadata": {
      "needs_background": "light"
     },
     "output_type": "display_data"
    }
   ],
   "source": [
    "import matplotlib.pyplot as plt \n",
    "plt.title(y_test_[0])\n",
    "plt.axis(\"off\")\n",
    "plt.imshow(x_test_[0], cmap='gray')"
   ]
  },
  {
   "cell_type": "code",
   "execution_count": 6,
   "metadata": {},
   "outputs": [
    {
     "name": "stdout",
     "output_type": "stream",
     "text": [
      "(60000, 784) (60000, 10) (10000, 784) (10000, 10)\n"
     ]
    }
   ],
   "source": [
    "import numpy as np\n",
    "oneHotEnc=np.eye(10)\n",
    "y_test=np.array([oneHotEnc[i] for i in y_test_])\n",
    "y_train=np.array([oneHotEnc[i] for i in y_train_])\n",
    "\n",
    "x_train=np.array([ i.reshape([784]) for i in x_train_])\n",
    "x_test=np.array([ i.reshape([784]) for i in x_test_])\n",
    "print(x_train.shape, y_train.shape, x_test.shape, y_test.shape)"
   ]
  },
  {
   "cell_type": "code",
   "execution_count": 7,
   "metadata": {},
   "outputs": [
    {
     "name": "stdout",
     "output_type": "stream",
     "text": [
      "Model: \"sequential\"\n",
      "_________________________________________________________________\n",
      "Layer (type)                 Output Shape              Param #   \n",
      "=================================================================\n",
      "dense (Dense)                (None, 512)               401920    \n",
      "_________________________________________________________________\n",
      "dropout (Dropout)            (None, 512)               0         \n",
      "_________________________________________________________________\n",
      "dense_1 (Dense)              (None, 512)               262656    \n",
      "_________________________________________________________________\n",
      "dropout_1 (Dropout)          (None, 512)               0         \n",
      "_________________________________________________________________\n",
      "dense_2 (Dense)              (None, 10)                5130      \n",
      "=================================================================\n",
      "Total params: 669,706\n",
      "Trainable params: 669,706\n",
      "Non-trainable params: 0\n",
      "_________________________________________________________________\n"
     ]
    }
   ],
   "source": [
    "model = Sequential()\n",
    "model.add(Dense(512, activation='relu', input_shape=(784,)))\n",
    "model.add(Dropout(0.2))\n",
    "model.add(Dense(512, activation='relu'))\n",
    "model.add(Dropout(0.2))\n",
    "model.add(Dense(num_classes, activation='softmax'))\n",
    "\n",
    "model.summary()\n",
    "\n",
    "model.compile(loss='categorical_crossentropy',\n",
    "              optimizer=RMSprop(),\n",
    "              metrics=['accuracy'])"
   ]
  },
  {
   "cell_type": "code",
   "execution_count": 8,
   "metadata": {},
   "outputs": [
    {
     "name": "stdout",
     "output_type": "stream",
     "text": [
      "Epoch 1/20\n",
      "469/469 [==============================] - 13s 28ms/step - loss: 3.3344 - accuracy: 0.8637 - val_loss: 0.4511 - val_accuracy: 0.9244\n",
      "Epoch 2/20\n",
      "469/469 [==============================] - 13s 28ms/step - loss: 0.5842 - accuracy: 0.9067 - val_loss: 0.2707 - val_accuracy: 0.9460\n",
      "Epoch 3/20\n",
      "469/469 [==============================] - 13s 28ms/step - loss: 0.4527 - accuracy: 0.9204 - val_loss: 0.2244 - val_accuracy: 0.9504\n",
      "Epoch 4/20\n",
      "469/469 [==============================] - 13s 27ms/step - loss: 0.4070 - accuracy: 0.9270 - val_loss: 0.1990 - val_accuracy: 0.9552\n",
      "Epoch 5/20\n",
      "469/469 [==============================] - 13s 27ms/step - loss: 0.3636 - accuracy: 0.9348 - val_loss: 0.2321 - val_accuracy: 0.9475\n",
      "Epoch 6/20\n",
      "469/469 [==============================] - 13s 28ms/step - loss: 0.3516 - accuracy: 0.9387 - val_loss: 0.2179 - val_accuracy: 0.9636\n",
      "Epoch 7/20\n",
      "469/469 [==============================] - 13s 28ms/step - loss: 0.3223 - accuracy: 0.9435 - val_loss: 0.2010 - val_accuracy: 0.9648\n",
      "Epoch 8/20\n",
      "469/469 [==============================] - 13s 28ms/step - loss: 0.3026 - accuracy: 0.9465 - val_loss: 0.2218 - val_accuracy: 0.9579\n",
      "Epoch 9/20\n",
      "469/469 [==============================] - 13s 28ms/step - loss: 0.2974 - accuracy: 0.9468 - val_loss: 0.2944 - val_accuracy: 0.9572\n",
      "Epoch 10/20\n",
      "469/469 [==============================] - 13s 27ms/step - loss: 0.2901 - accuracy: 0.9482 - val_loss: 0.2488 - val_accuracy: 0.9596\n",
      "Epoch 11/20\n",
      "469/469 [==============================] - 13s 28ms/step - loss: 0.2879 - accuracy: 0.9482 - val_loss: 0.2565 - val_accuracy: 0.9636\n",
      "Epoch 12/20\n",
      "469/469 [==============================] - 13s 27ms/step - loss: 0.2857 - accuracy: 0.9515 - val_loss: 0.2586 - val_accuracy: 0.9639\n",
      "Epoch 13/20\n",
      "469/469 [==============================] - 13s 27ms/step - loss: 0.2850 - accuracy: 0.9493 - val_loss: 0.3394 - val_accuracy: 0.9666\n",
      "Epoch 14/20\n",
      "469/469 [==============================] - 13s 27ms/step - loss: 0.2867 - accuracy: 0.9494 - val_loss: 0.3442 - val_accuracy: 0.9680\n",
      "Epoch 15/20\n",
      "469/469 [==============================] - 13s 27ms/step - loss: 0.3071 - accuracy: 0.9520 - val_loss: 0.3548 - val_accuracy: 0.9686\n",
      "Epoch 16/20\n",
      "469/469 [==============================] - 13s 27ms/step - loss: 0.2995 - accuracy: 0.9477 - val_loss: 0.3579 - val_accuracy: 0.9645\n",
      "Epoch 17/20\n",
      "469/469 [==============================] - 13s 27ms/step - loss: 0.3059 - accuracy: 0.9512 - val_loss: 0.4342 - val_accuracy: 0.9631\n",
      "Epoch 18/20\n",
      "469/469 [==============================] - 13s 27ms/step - loss: 0.2878 - accuracy: 0.9534 - val_loss: 0.3712 - val_accuracy: 0.9626\n",
      "Epoch 19/20\n",
      "469/469 [==============================] - 13s 27ms/step - loss: 0.2794 - accuracy: 0.9513 - val_loss: 0.3901 - val_accuracy: 0.9661\n",
      "Epoch 20/20\n",
      "469/469 [==============================] - 13s 27ms/step - loss: 0.3131 - accuracy: 0.9505 - val_loss: 0.3800 - val_accuracy: 0.9665\n"
     ]
    }
   ],
   "source": [
    "history = model.fit(x_train, y_train,\n",
    "                    batch_size=batch_size,\n",
    "                    epochs=epochs,\n",
    "                    verbose=1,\n",
    "                    validation_data=(x_test, y_test))\n"
   ]
  },
  {
   "cell_type": "code",
   "execution_count": 9,
   "metadata": {},
   "outputs": [
    {
     "name": "stdout",
     "output_type": "stream",
     "text": [
      "Test loss: 0.3799906373023987\n",
      "Test accuracy: 0.9664999842643738\n"
     ]
    }
   ],
   "source": [
    "score = model.evaluate(x_test, y_test, verbose=0)\n",
    "print('Test loss:', score[0])\n",
    "print('Test accuracy:', score[1])"
   ]
  }
 ],
 "metadata": {
  "kernelspec": {
   "display_name": "Python 3",
   "language": "python",
   "name": "python3"
  },
  "language_info": {
   "codemirror_mode": {
    "name": "ipython",
    "version": 3
   },
   "file_extension": ".py",
   "mimetype": "text/x-python",
   "name": "python",
   "nbconvert_exporter": "python",
   "pygments_lexer": "ipython3",
   "version": "3.6.9"
  }
 },
 "nbformat": 4,
 "nbformat_minor": 4
}
