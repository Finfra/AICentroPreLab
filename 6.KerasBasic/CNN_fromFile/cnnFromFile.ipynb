{
 "cells": [
  {
   "cell_type": "markdown",
   "metadata": {},
   "source": [
    "# CNN Example FromFile by Keras\n",
    "* Trains a simple convnet on the MNIST dataset from file(3 Class from Folder). \n",
    "* Gets to 0.98% test accuracy after 10 epochs\n",
    "* Unser 1 seconds per epoch on a GPU."
   ]
  },
  {
   "cell_type": "code",
   "execution_count": 1,
   "metadata": {},
   "outputs": [],
   "source": [
    "from __future__ import absolute_import, division, print_function, unicode_literals\n",
    "\n",
    "import tensorflow as tf\n",
    "\n",
    "from tensorflow.keras import datasets, layers, models\n",
    "import numpy as np"
   ]
  },
  {
   "cell_type": "code",
   "execution_count": 2,
   "metadata": {},
   "outputs": [],
   "source": [
    "from os import listdir\n",
    "from os.path import isfile, join\n",
    "from pylab import *\n",
    "from numpy import *\n",
    "\n",
    "def getFolder(thePath,isFile=True):\n",
    "    return [f for f in listdir(thePath) if isFile == isfile(join(thePath, f)) ]\n",
    "\n",
    "\n",
    "def getImagesAndLabels(tPath,isGray=True):\n",
    "    labels=getFolder(tPath,False)\n",
    "    tImgDic={f:getFolder(join(tPath,f)) for f in labels}\n",
    "    tImages,tLabels=None,None\n",
    "    ks=sorted(list(tImgDic.keys()))\n",
    "    oh=np.identity(len(ks))\n",
    "    for label in tImgDic.keys():\n",
    "        for image in tImgDic[label]:\n",
    "            le=np.array([float(label)],ndmin=1)\n",
    "            img_color=imread(join(tPath,label,image))\n",
    "            if isGray:\n",
    "                img=img_color[:,:,1]\n",
    "            img1d=img.reshape([1,-1])\n",
    "            if tImages is None:\n",
    "                tImages, tLabels =img1d, le\n",
    "            else:\n",
    "                tImages,tLabels = np.concatenate((tImages,img1d),axis=0), np.append(tLabels,le ,axis=0)\n",
    "    return (tImages,tLabels)\n",
    "\n",
    "    "
   ]
  },
  {
   "cell_type": "code",
   "execution_count": 3,
   "metadata": {},
   "outputs": [],
   "source": [
    "![ ! -d ../../data/MNIST_Simple ]&& (tar -xf ../../data/MNIST_Simple.tar;mv MNIST_Simple ../../data/MNIST_Simple)"
   ]
  },
  {
   "cell_type": "code",
   "execution_count": 4,
   "metadata": {},
   "outputs": [
    {
     "name": "stdout",
     "output_type": "stream",
     "text": [
      "Shape of Train_images = (3000, 28, 28, 1)\n"
     ]
    }
   ],
   "source": [
    "tPath='../../data/MNIST_Simple/train/'\n",
    "train_images,train_labels=getImagesAndLabels(tPath)    \n",
    "tPath='../../data/MNIST_Simple/test/'\n",
    "test_images,test_labels=getImagesAndLabels(tPath)    \n",
    "\n",
    "train_images = train_images.reshape((-1, 28, 28, 1))\n",
    "test_images = test_images.reshape((-1, 28, 28, 1))\n",
    "train_images, test_images = train_images / 255.0, test_images / 255.0\n",
    "\n",
    "print(\"Shape of Train_images = {}\".format(train_images.shape))\n",
    "\n",
    "# import matplotlib.pyplot as plt\n",
    "# plt.gray()\n",
    "# plt.imshow(train_images[0].reshape(28, 28))\n",
    "# i0=train_images[0]\n",
    "# print(np.max(i0),np.min(i0),i0.shape,train_labels.shape,train_labels[0].__class__ )"
   ]
  },
  {
   "cell_type": "code",
   "execution_count": 5,
   "metadata": {},
   "outputs": [
    {
     "name": "stdout",
     "output_type": "stream",
     "text": [
      "Model: \"sequential\"\n",
      "_________________________________________________________________\n",
      "Layer (type)                 Output Shape              Param #   \n",
      "=================================================================\n",
      "conv2d (Conv2D)              (None, 26, 26, 32)        320       \n",
      "_________________________________________________________________\n",
      "max_pooling2d (MaxPooling2D) (None, 13, 13, 32)        0         \n",
      "_________________________________________________________________\n",
      "conv2d_1 (Conv2D)            (None, 11, 11, 64)        18496     \n",
      "_________________________________________________________________\n",
      "max_pooling2d_1 (MaxPooling2 (None, 5, 5, 64)          0         \n",
      "_________________________________________________________________\n",
      "conv2d_2 (Conv2D)            (None, 3, 3, 64)          36928     \n",
      "_________________________________________________________________\n",
      "flatten (Flatten)            (None, 576)               0         \n",
      "_________________________________________________________________\n",
      "dense (Dense)                (None, 64)                36928     \n",
      "_________________________________________________________________\n",
      "dense_1 (Dense)              (None, 10)                650       \n",
      "=================================================================\n",
      "Total params: 93,322\n",
      "Trainable params: 93,322\n",
      "Non-trainable params: 0\n",
      "_________________________________________________________________\n"
     ]
    }
   ],
   "source": [
    "model = models.Sequential()\n",
    "model.add(layers.Conv2D(32, (3, 3), activation='relu', input_shape=(28, 28, 1)))\n",
    "model.add(layers.MaxPooling2D((2, 2)))\n",
    "model.add(layers.Conv2D(64, (3, 3), activation='relu'))\n",
    "model.add(layers.MaxPooling2D((2, 2)))\n",
    "model.add(layers.Conv2D(64, (3, 3), activation='relu'))\n",
    "model.add(layers.Flatten())\n",
    "model.add(layers.Dense(64, activation='relu'))\n",
    "model.add(layers.Dense(10, activation='softmax'))\n",
    "model.summary()\n",
    "\n"
   ]
  },
  {
   "cell_type": "code",
   "execution_count": 6,
   "metadata": {},
   "outputs": [
    {
     "name": "stdout",
     "output_type": "stream",
     "text": [
      "Epoch 1/10\n",
      "94/94 [==============================] - 3s 37ms/step - loss: 1.2794 - accuracy: 0.3303\n",
      "Epoch 2/10\n",
      "94/94 [==============================] - 3s 37ms/step - loss: 1.1042 - accuracy: 0.3400 0s - loss: 1.1052 - accuracy: \n",
      "Epoch 3/10\n",
      "94/94 [==============================] - 3s 36ms/step - loss: 1.0931 - accuracy: 0.3783\n",
      "Epoch 4/10\n",
      "94/94 [==============================] - 3s 36ms/step - loss: 0.5496 - accuracy: 0.8470\n",
      "Epoch 5/10\n",
      "94/94 [==============================] - 3s 36ms/step - loss: 0.1377 - accuracy: 0.9570\n",
      "Epoch 6/10\n",
      "94/94 [==============================] - 3s 36ms/step - loss: 0.1008 - accuracy: 0.9657\n",
      "Epoch 7/10\n",
      "94/94 [==============================] - 3s 35ms/step - loss: 0.0842 - accuracy: 0.9740\n",
      "Epoch 8/10\n",
      "94/94 [==============================] - 3s 35ms/step - loss: 0.0723 - accuracy: 0.9747\n",
      "Epoch 9/10\n",
      "94/94 [==============================] - 3s 36ms/step - loss: 0.0679 - accuracy: 0.9787\n",
      "Epoch 10/10\n",
      "94/94 [==============================] - 3s 35ms/step - loss: 0.0619 - accuracy: 0.9780\n"
     ]
    },
    {
     "data": {
      "text/plain": [
       "<tensorflow.python.keras.callbacks.History at 0x7ff1a7a47518>"
      ]
     },
     "execution_count": 6,
     "metadata": {},
     "output_type": "execute_result"
    }
   ],
   "source": [
    "model.compile(optimizer='adam',\n",
    "              loss='sparse_categorical_crossentropy',\n",
    "              metrics=['accuracy'])\n",
    "\n",
    "model.fit(train_images, train_labels, epochs=10)"
   ]
  },
  {
   "cell_type": "code",
   "execution_count": 7,
   "metadata": {},
   "outputs": [
    {
     "name": "stdout",
     "output_type": "stream",
     "text": [
      "Test loss: 0.0763799250125885\n",
      "Test accuracy: 0.9706666469573975\n"
     ]
    }
   ],
   "source": [
    "score = model.evaluate(test_images, test_labels, verbose=0)\n",
    "print('Test loss:', score[0])\n",
    "print('Test accuracy:', score[1])"
   ]
  }
 ],
 "metadata": {
  "kernelspec": {
   "display_name": "Python 3",
   "language": "python",
   "name": "python3"
  },
  "language_info": {
   "codemirror_mode": {
    "name": "ipython",
    "version": 3
   },
   "file_extension": ".py",
   "mimetype": "text/x-python",
   "name": "python",
   "nbconvert_exporter": "python",
   "pygments_lexer": "ipython3",
   "version": "3.6.9"
  }
 },
 "nbformat": 4,
 "nbformat_minor": 4
}
