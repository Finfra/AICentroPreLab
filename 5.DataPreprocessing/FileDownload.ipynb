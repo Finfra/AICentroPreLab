{
 "cells": [
  {
   "cell_type": "markdown",
   "metadata": {},
   "source": [
    "# File Download"
   ]
  },
  {
   "cell_type": "code",
   "execution_count": 1,
   "metadata": {},
   "outputs": [
    {
     "name": "stdout",
     "output_type": "stream",
     "text": [
      "[\n",
      "{\"deptno\":10 ,\"dname\":\"ACCOUNTING\" ,\"loc\":\"NEW YORK\" },\n",
      "{\"deptno\":20 ,\"dname\":\"RESEARCH\" ,\"loc\":\"DALLAS\" },\n",
      "{\"deptno\":30 ,\"dname\":\"SALES\" ,\"loc\":\"CHICAGO\" },\n",
      "{\"deptno\":40 ,\"dname\":\"OPERATIONS\" ,\"loc\":\"BOSTON\" }\n",
      "]\n",
      "\n"
     ]
    }
   ],
   "source": [
    "import requests\n",
    "url = 'http://j.finfra.com/_file/dept.json'\n",
    "response = requests.get(url)\n",
    "print(response.text)"
   ]
  }
 ],
 "metadata": {
  "kernelspec": {
   "display_name": "Python 3",
   "language": "python",
   "name": "python3"
  },
  "language_info": {
   "codemirror_mode": {
    "name": "ipython",
    "version": 3
   },
   "file_extension": ".py",
   "mimetype": "text/x-python",
   "name": "python",
   "nbconvert_exporter": "python",
   "pygments_lexer": "ipython3",
   "version": "3.6.9"
  }
 },
 "nbformat": 4,
 "nbformat_minor": 4
}
