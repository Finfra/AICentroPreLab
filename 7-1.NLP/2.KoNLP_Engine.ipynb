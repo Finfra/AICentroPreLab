{
 "cells": [
  {
   "cell_type": "markdown",
   "metadata": {},
   "source": [
    "# KoNLP Engine별 성능 비교"
   ]
  },
  {
   "cell_type": "markdown",
   "metadata": {},
   "source": [
    "## Mecap Engine 설치"
   ]
  },
  {
   "cell_type": "code",
   "execution_count": 2,
   "metadata": {},
   "outputs": [],
   "source": [
    "# !pip install konlpy"
   ]
  },
  {
   "cell_type": "code",
   "execution_count": 1,
   "metadata": {},
   "outputs": [
    {
     "name": "stdout",
     "output_type": "stream",
     "text": [
      "<class 'konlpy.tag._kkma.Kkma'>\n",
      "[('갤럭시', 'UN'), ('는', 'JX'), ('화면', 'NNG'), ('이', 'JKS'), ('크', 'VA'), ('ㄴ데', 'ECE'), (',', 'SP'), ('좋', 'VA'), ('은데', 'ECD'), ('?', 'SF')]\n",
      "<class 'konlpy.tag._hannanum.Hannanum'>\n",
      "[('갤럭시', 'N'), ('는', 'J'), ('화면', 'N'), ('이', 'J'), ('크', 'P'), ('ㄴ데', 'E'), (',', 'S'), ('좋', 'P'), ('은', 'E'), ('데', 'N'), ('?', 'S')]\n",
      "<class 'konlpy.tag._mecab.Mecab'>\n",
      "[('갤럭시', 'NNP'), ('는', 'JX'), ('화면', 'NNG'), ('이', 'JKS'), ('큰데', 'VA+EC'), (',', 'SC'), ('좋', 'VA'), ('은데', 'EF'), ('?', 'SF')]\n"
     ]
    }
   ],
   "source": [
    "from konlpy.tag import *\n",
    "engines = [Kkma, Hannanum, Mecab]\n",
    "s = u\"갤럭시는 화면이 큰데, 좋은데?\" \n",
    "for e in engines:\n",
    "    print(e)\n",
    "    print(e().pos(s))"
   ]
  },
  {
   "cell_type": "markdown",
   "metadata": {},
   "source": [
    "* cf) Mecab 설치 : https://yuddomack.tistory.com/entry/처음부터-시작하는-EC2-konlpy-mecab-설치하기ubuntu"
   ]
  }
 ],
 "metadata": {
  "kernelspec": {
   "display_name": "Python 3",
   "language": "python",
   "name": "python3"
  },
  "language_info": {
   "codemirror_mode": {
    "name": "ipython",
    "version": 3
   },
   "file_extension": ".py",
   "mimetype": "text/x-python",
   "name": "python",
   "nbconvert_exporter": "python",
   "pygments_lexer": "ipython3",
   "version": "3.6.9"
  }
 },
 "nbformat": 4,
 "nbformat_minor": 4
}
