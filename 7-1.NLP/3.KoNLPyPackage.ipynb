{
 "cells": [
  {
   "cell_type": "markdown",
   "metadata": {
    "school_cell_uuid": "0e4c08e3a79e4b1e8f0744218c2b070d"
   },
   "source": [
    "# KoNLPy 한국어 처리 패키지"
   ]
  },
  {
   "cell_type": "markdown",
   "metadata": {
    "school_cell_uuid": "143ed59c3e9e4786b58c52996198dfcf"
   },
   "source": [
    "KoNLPy(코엔엘파이라고 읽는다)는 한국어 정보처리를 위한 파이썬 패키지이다. "
   ]
  },
  {
   "cell_type": "code",
   "execution_count": 1,
   "metadata": {
    "school_cell_uuid": "b6fe73ca07fd47c7a255b0db442b1502"
   },
   "outputs": [
    {
     "name": "stdout",
     "output_type": "stream",
     "text": [
      "Looking in indexes: http://aicentro-nexus-svc.aicentro-system:8081/hub-nexus/repository/pypi-group/simple\n",
      "Requirement already satisfied: konlpy in /usr/local/lib/python3.6/dist-packages (0.5.2)\n",
      "Requirement already satisfied: lxml>=4.1.0 in /usr/local/lib/python3.6/dist-packages (from konlpy) (4.5.2)\n",
      "Requirement already satisfied: numpy>=1.6 in /usr/local/lib/python3.6/dist-packages (from konlpy) (1.16.4)\n",
      "Requirement already satisfied: beautifulsoup4==4.6.0 in /usr/local/lib/python3.6/dist-packages (from konlpy) (4.6.0)\n",
      "Requirement already satisfied: tweepy>=3.7.0 in /usr/local/lib/python3.6/dist-packages (from konlpy) (3.9.0)\n",
      "Requirement already satisfied: colorama in /usr/local/lib/python3.6/dist-packages (from konlpy) (0.4.3)\n",
      "Requirement already satisfied: JPype1>=0.7.0 in /usr/local/lib/python3.6/dist-packages (from konlpy) (1.0.2)\n",
      "Requirement already satisfied: requests[socks]>=2.11.1 in /usr/local/lib/python3.6/dist-packages (from tweepy>=3.7.0->konlpy) (2.23.0)\n",
      "Requirement already satisfied: six>=1.10.0 in /usr/local/lib/python3.6/dist-packages (from tweepy>=3.7.0->konlpy) (1.14.0)\n",
      "Requirement already satisfied: requests-oauthlib>=0.7.0 in /usr/local/lib/python3.6/dist-packages (from tweepy>=3.7.0->konlpy) (1.3.0)\n",
      "Requirement already satisfied: typing-extensions; python_version < \"3.8\" in /usr/local/lib/python3.6/dist-packages (from JPype1>=0.7.0->konlpy) (3.7.4.3)\n",
      "Requirement already satisfied: urllib3!=1.25.0,!=1.25.1,<1.26,>=1.21.1 in /usr/local/lib/python3.6/dist-packages (from requests[socks]>=2.11.1->tweepy>=3.7.0->konlpy) (1.25.9)\n",
      "Requirement already satisfied: idna<3,>=2.5 in /usr/lib/python3/dist-packages (from requests[socks]>=2.11.1->tweepy>=3.7.0->konlpy) (2.6)\n",
      "Requirement already satisfied: chardet<4,>=3.0.2 in /usr/local/lib/python3.6/dist-packages (from requests[socks]>=2.11.1->tweepy>=3.7.0->konlpy) (3.0.4)\n",
      "Requirement already satisfied: certifi>=2017.4.17 in /usr/local/lib/python3.6/dist-packages (from requests[socks]>=2.11.1->tweepy>=3.7.0->konlpy) (2020.4.5.1)\n",
      "Requirement already satisfied: PySocks!=1.5.7,>=1.5.6; extra == \"socks\" in /usr/local/lib/python3.6/dist-packages (from requests[socks]>=2.11.1->tweepy>=3.7.0->konlpy) (1.7.1)\n",
      "Requirement already satisfied: oauthlib>=3.0.0 in /usr/local/lib/python3.6/dist-packages (from requests-oauthlib>=0.7.0->tweepy>=3.7.0->konlpy) (3.1.0)\n",
      "\u001b[33mWARNING: You are using pip version 20.1; however, version 20.2.3 is available.\n",
      "You should consider upgrading via the '/usr/bin/python3 -m pip install --upgrade pip' command.\u001b[0m\n",
      "Looking in indexes: http://aicentro-nexus-svc.aicentro-system:8081/hub-nexus/repository/pypi-group/simple\n",
      "Collecting WordCloud\n",
      "  Downloading http://aicentro-nexus-svc.aicentro-system:8081/hub-nexus/repository/pypi-group/packages/wordcloud/1.8.0/wordcloud-1.8.0-cp36-cp36m-manylinux1_x86_64.whl (365 kB)\n",
      "\u001b[K     |████████████████████████████████| 365 kB 62.1 MB/s eta 0:00:01\n",
      "\u001b[?25hCollecting pillow\n",
      "  Downloading http://aicentro-nexus-svc.aicentro-system:8081/hub-nexus/repository/pypi-group/packages/pillow/7.2.0/Pillow-7.2.0-cp36-cp36m-manylinux1_x86_64.whl (2.2 MB)\n",
      "\u001b[K     |████████████████████████████████| 2.2 MB 59.5 MB/s eta 0:00:01\n",
      "\u001b[?25hRequirement already satisfied: numpy>=1.6.1 in /usr/local/lib/python3.6/dist-packages (from WordCloud) (1.16.4)\n",
      "Requirement already satisfied: matplotlib in /usr/local/lib/python3.6/dist-packages (from WordCloud) (3.2.1)\n",
      "Requirement already satisfied: cycler>=0.10 in /usr/local/lib/python3.6/dist-packages (from matplotlib->WordCloud) (0.10.0)\n",
      "Requirement already satisfied: kiwisolver>=1.0.1 in /usr/local/lib/python3.6/dist-packages (from matplotlib->WordCloud) (1.2.0)\n",
      "Requirement already satisfied: pyparsing!=2.0.4,!=2.1.2,!=2.1.6,>=2.0.1 in /usr/local/lib/python3.6/dist-packages (from matplotlib->WordCloud) (2.4.7)\n",
      "Requirement already satisfied: python-dateutil>=2.1 in /usr/local/lib/python3.6/dist-packages (from matplotlib->WordCloud) (2.8.1)\n",
      "Requirement already satisfied: six in /usr/local/lib/python3.6/dist-packages (from cycler>=0.10->matplotlib->WordCloud) (1.14.0)\n",
      "Installing collected packages: pillow, WordCloud\n",
      "Successfully installed WordCloud-1.8.0 pillow-7.2.0\n",
      "\u001b[33mWARNING: You are using pip version 20.1; however, version 20.2.3 is available.\n",
      "You should consider upgrading via the '/usr/bin/python3 -m pip install --upgrade pip' command.\u001b[0m\n"
     ]
    },
    {
     "data": {
      "text/plain": [
       "'0.5.2'"
      ]
     },
     "execution_count": 1,
     "metadata": {},
     "output_type": "execute_result"
    }
   ],
   "source": [
    "import warnings\n",
    "warnings.simplefilter(\"ignore\")\n",
    "import pandas as pd\n",
    "import matplotlib.pyplot as plt\n",
    "\n",
    "!pip install konlpy\n",
    "!pip install WordCloud\n",
    "\n",
    "pd.set_option('display.max_rows', 80)\n",
    "\n",
    "plt.rcParams[\"font.family\"] = \"NanumGothicCoding\"\n",
    "\n",
    "import konlpy\n",
    "konlpy.__version__"
   ]
  },
  {
   "cell_type": "markdown",
   "metadata": {
    "school_cell_uuid": "240ff9b1ad014f91b179335673cc2005"
   },
   "source": [
    "## 한국어 말뭉치"
   ]
  },
  {
   "cell_type": "markdown",
   "metadata": {
    "school_cell_uuid": "df3f1c0c41c444339d1dc70c3e586fa2"
   },
   "source": [
    "KoNLPy에서는 대한민국 헌법 말뭉치인 `kolaw`와 국회법안 말뭉치인 `kobill`을 제공한다. 각 말뭉치가 포함하는 파일의 이름은 `fields` 메서드로 알 수 있고 `open` 메서드로 해당 파일의 텍스트를 읽어들인다."
   ]
  },
  {
   "cell_type": "code",
   "execution_count": 2,
   "metadata": {
    "school_cell_uuid": "7f80a49dfe8b46d486f0db8fe011e301"
   },
   "outputs": [
    {
     "data": {
      "text/plain": [
       "['constitution.txt']"
      ]
     },
     "execution_count": 2,
     "metadata": {},
     "output_type": "execute_result"
    }
   ],
   "source": [
    "from konlpy.corpus import kolaw\n",
    "kolaw.fileids()"
   ]
  },
  {
   "cell_type": "code",
   "execution_count": 3,
   "metadata": {
    "school_cell_uuid": "e1d24940656f4f9f9e6032f7a14056da"
   },
   "outputs": [
    {
     "name": "stdout",
     "output_type": "stream",
     "text": [
      "대한민국헌법\n",
      "\n",
      "유구한 역사와 전통에 빛나는 우리 대한국민은 3·1운동으로\n"
     ]
    }
   ],
   "source": [
    "c = kolaw.open('constitution.txt').read()\n",
    "print(c[:40])"
   ]
  },
  {
   "cell_type": "code",
   "execution_count": 4,
   "metadata": {
    "school_cell_uuid": "34851c3c80d344688cdcb98a3826f325"
   },
   "outputs": [
    {
     "data": {
      "text/plain": [
       "['1809891.txt',\n",
       " '1809892.txt',\n",
       " '1809897.txt',\n",
       " '1809896.txt',\n",
       " '1809899.txt',\n",
       " '1809893.txt',\n",
       " '1809895.txt',\n",
       " '1809894.txt',\n",
       " '1809898.txt',\n",
       " '1809890.txt']"
      ]
     },
     "execution_count": 4,
     "metadata": {},
     "output_type": "execute_result"
    }
   ],
   "source": [
    "from konlpy.corpus import kobill\n",
    "kobill.fileids()"
   ]
  },
  {
   "cell_type": "code",
   "execution_count": 5,
   "metadata": {
    "school_cell_uuid": "ab2c5be9e19646e8a8cfb97681a115e3"
   },
   "outputs": [
    {
     "name": "stdout",
     "output_type": "stream",
     "text": [
      "지방공무원법 일부개정법률안\n",
      "\n",
      "(정의화의원 대표발의 )\n",
      "\n",
      " 의 안\n",
      " 번 호\n"
     ]
    }
   ],
   "source": [
    "d = kobill.open('1809890.txt').read()\n",
    "print(d[:40])"
   ]
  },
  {
   "cell_type": "markdown",
   "metadata": {
    "school_cell_uuid": "97879e3ed2f34d72b34d1ca880bd6aef"
   },
   "source": [
    "## 형태소 분석"
   ]
  },
  {
   "cell_type": "markdown",
   "metadata": {
    "school_cell_uuid": "ab1539cc28a240ceb304e9e256573219"
   },
   "source": [
    "KoNLPy는 다음과 같은 다양한 형태소 분석, 태깅 라이브러리를 파이썬에서 쉽게 사용할 수 있도록 모아놓았다.\n",
    "\n",
    "* Hannanum: 한나눔. KAIST Semantic Web Research Center 개발.\n",
    "  * http://semanticweb.kaist.ac.kr/hannanum/\n",
    "* Kkma: 꼬꼬마. 서울대학교 IDS(Intelligent Data Systems) 연구실 개발.\n",
    "  * http://kkma.snu.ac.kr/\n",
    "* Komoran: 코모란. Shineware에서 개발.\n",
    "  * https://github.com/shin285/KOMORAN\n",
    "* Mecab: 메카브. 일본어용 형태소 분석기를 한국어를 사용할 수 있도록 수정.\n",
    "  * https://bitbucket.org/eunjeon/mecab-ko\n",
    "* Open Korean Text: 오픈 소스 한국어 분석기. 과거 트위터 형태소 분석기.\n",
    "  * https://github.com/open-korean-text/open-korean-text\n",
    "\n",
    "여기에서는 한나눔, 꼬꼬마, 오픈코리안텍스트 형태소만 예제로 포함하였다."
   ]
  },
  {
   "cell_type": "code",
   "execution_count": 6,
   "metadata": {
    "school_cell_uuid": "9f10ef1f00f942499939fd3ea672c27f"
   },
   "outputs": [],
   "source": [
    "from konlpy.tag import *\n",
    "\n",
    "hannanum = Hannanum()\n",
    "kkma = Kkma()\n",
    "komoran = Komoran()\n",
    "mecab = Mecab()\n",
    "okt = Okt()"
   ]
  },
  {
   "cell_type": "markdown",
   "metadata": {
    "school_cell_uuid": "64f3dca5edac4f9085eb91993e846246"
   },
   "source": [
    "이 클래스들은 다음과 같은 메서드를 공통적으로 제공한다.\n",
    "\n",
    "* `nouns` : 명사 추출\n",
    "* `morphs` : 형태소 추출\n",
    "* `pos` : 품사 부착"
   ]
  },
  {
   "cell_type": "markdown",
   "metadata": {
    "school_cell_uuid": "fd522673d75e4e7cb5d5f0d340a0d6a5"
   },
   "source": [
    "### 명사 추출"
   ]
  },
  {
   "cell_type": "markdown",
   "metadata": {
    "school_cell_uuid": "5f60d18cf7ed4c19a069017f142b69ec"
   },
   "source": [
    "문자열에서 명사만 추출하려면 `noun` 명령을 사용한다."
   ]
  },
  {
   "cell_type": "code",
   "execution_count": 7,
   "metadata": {
    "school_cell_uuid": "d187899ebc5640368a6d33effb710e1d"
   },
   "outputs": [
    {
     "data": {
      "text/plain": [
       "['대한민국헌법', '유구', '역사', '전통', '빛', '우리', '대한국민', '3·1운동']"
      ]
     },
     "execution_count": 7,
     "metadata": {},
     "output_type": "execute_result"
    }
   ],
   "source": [
    "hannanum.nouns(c[:40])"
   ]
  },
  {
   "cell_type": "code",
   "execution_count": 8,
   "metadata": {
    "school_cell_uuid": "8828336032f44002af47390b09442426"
   },
   "outputs": [
    {
     "data": {
      "text/plain": [
       "['대한',\n",
       " '대한민국',\n",
       " '대한민국헌법',\n",
       " '민국',\n",
       " '헌법',\n",
       " '유구',\n",
       " '역사',\n",
       " '전통',\n",
       " '우리',\n",
       " '국민',\n",
       " '3',\n",
       " '1',\n",
       " '1운동',\n",
       " '운동']"
      ]
     },
     "execution_count": 8,
     "metadata": {},
     "output_type": "execute_result"
    }
   ],
   "source": [
    "kkma.nouns(c[:40])"
   ]
  },
  {
   "cell_type": "code",
   "execution_count": 9,
   "metadata": {
    "school_cell_uuid": "d51307e7b39e489fa0a6440806c0cb62"
   },
   "outputs": [
    {
     "data": {
      "text/plain": [
       "['대한민국', '헌법', '역사', '전통', '국민', '운동']"
      ]
     },
     "execution_count": 9,
     "metadata": {},
     "output_type": "execute_result"
    }
   ],
   "source": [
    "# komoran은 빈줄이 있으면 에러가 남\n",
    "komoran.nouns(\"\\n\".join([s for s in c[:40].split(\"\\n\") if s]))"
   ]
  },
  {
   "cell_type": "code",
   "execution_count": 10,
   "metadata": {
    "school_cell_uuid": "c40e74f66b3b46f9a3ef73caeea7c641"
   },
   "outputs": [
    {
     "data": {
      "text/plain": [
       "['대한민국', '헌법', '역사', '전통', '우리', '국민', '운동']"
      ]
     },
     "execution_count": 10,
     "metadata": {},
     "output_type": "execute_result"
    }
   ],
   "source": [
    "mecab.nouns(c[:40])"
   ]
  },
  {
   "cell_type": "code",
   "execution_count": 11,
   "metadata": {
    "school_cell_uuid": "c40e74f66b3b46f9a3ef73caeea7c641"
   },
   "outputs": [
    {
     "data": {
      "text/plain": [
       "['대한민국', '헌법', '유구', '역사', '전통', '우리', '국민', '운동']"
      ]
     },
     "execution_count": 11,
     "metadata": {},
     "output_type": "execute_result"
    }
   ],
   "source": [
    "okt.nouns(c[:40])"
   ]
  },
  {
   "cell_type": "markdown",
   "metadata": {
    "school_cell_uuid": "ee183964b2094d64ad17673fe835b0ac"
   },
   "source": [
    "### 형태소 추출"
   ]
  },
  {
   "cell_type": "markdown",
   "metadata": {
    "school_cell_uuid": "7d61541c732f4ded9b2d500f0f86312e"
   },
   "source": [
    "명사 뿐 아니라 모든 품사의 형태소를 알아내려면 `morphs`라는 명령을 사용한다."
   ]
  },
  {
   "cell_type": "code",
   "execution_count": 12,
   "metadata": {
    "school_cell_uuid": "6626659da2234af89ac5b0d5cf9040f1"
   },
   "outputs": [
    {
     "data": {
      "text/plain": [
       "['대한민국헌법',\n",
       " '유구',\n",
       " '하',\n",
       " 'ㄴ',\n",
       " '역사',\n",
       " '와',\n",
       " '전통',\n",
       " '에',\n",
       " '빛',\n",
       " '나는',\n",
       " '우리',\n",
       " '대한국민',\n",
       " '은',\n",
       " '3·1운동',\n",
       " '으로']"
      ]
     },
     "execution_count": 12,
     "metadata": {},
     "output_type": "execute_result"
    }
   ],
   "source": [
    "hannanum.morphs(c[:40])"
   ]
  },
  {
   "cell_type": "code",
   "execution_count": 13,
   "metadata": {
    "school_cell_uuid": "e54ef02c9ad4433caee92c401ab78965"
   },
   "outputs": [
    {
     "data": {
      "text/plain": [
       "['대한민국',\n",
       " '헌법',\n",
       " '유구',\n",
       " '하',\n",
       " 'ㄴ',\n",
       " '역사',\n",
       " '와',\n",
       " '전통',\n",
       " '에',\n",
       " '빛나',\n",
       " '는',\n",
       " '우리',\n",
       " '대하',\n",
       " 'ㄴ',\n",
       " '국민',\n",
       " '은',\n",
       " '3',\n",
       " '·',\n",
       " '1',\n",
       " '운동',\n",
       " '으로']"
      ]
     },
     "execution_count": 13,
     "metadata": {},
     "output_type": "execute_result"
    }
   ],
   "source": [
    "kkma.morphs(c[:40])"
   ]
  },
  {
   "cell_type": "code",
   "execution_count": 14,
   "metadata": {
    "school_cell_uuid": "373b0e41c5c9473ab13ed438ffc09ce9"
   },
   "outputs": [
    {
     "data": {
      "text/plain": [
       "['대한민국',\n",
       " '헌법',\n",
       " '유구',\n",
       " '하',\n",
       " 'ㄴ',\n",
       " '역사',\n",
       " '와',\n",
       " '전통',\n",
       " '에',\n",
       " '빛나',\n",
       " '는',\n",
       " '우리',\n",
       " '대하',\n",
       " 'ㄴ',\n",
       " '국민',\n",
       " '은',\n",
       " '3',\n",
       " '·',\n",
       " '1',\n",
       " '운동',\n",
       " '으로']"
      ]
     },
     "execution_count": 14,
     "metadata": {},
     "output_type": "execute_result"
    }
   ],
   "source": [
    "# komoran은 빈줄이 있으면 에러가 남\n",
    "komoran.morphs(\"\\n\".join([s for s in c[:40].split(\"\\n\") if s]))"
   ]
  },
  {
   "cell_type": "code",
   "execution_count": 15,
   "metadata": {
    "school_cell_uuid": "bd4bb9aecf334af5a8bf9c80cbc31d41"
   },
   "outputs": [
    {
     "data": {
      "text/plain": [
       "['대한민국',\n",
       " '헌법',\n",
       " '유구',\n",
       " '한',\n",
       " '역사',\n",
       " '와',\n",
       " '전통',\n",
       " '에',\n",
       " '빛나',\n",
       " '는',\n",
       " '우리',\n",
       " '대한',\n",
       " '국민',\n",
       " '은',\n",
       " '3',\n",
       " '·',\n",
       " '1',\n",
       " '운동',\n",
       " '으로']"
      ]
     },
     "execution_count": 15,
     "metadata": {},
     "output_type": "execute_result"
    }
   ],
   "source": [
    "mecab.morphs(c[:40])"
   ]
  },
  {
   "cell_type": "code",
   "execution_count": 16,
   "metadata": {
    "school_cell_uuid": "bd4bb9aecf334af5a8bf9c80cbc31d41"
   },
   "outputs": [
    {
     "data": {
      "text/plain": [
       "['대한민국',\n",
       " '헌법',\n",
       " '\\n\\n',\n",
       " '유구',\n",
       " '한',\n",
       " '역사',\n",
       " '와',\n",
       " '전통',\n",
       " '에',\n",
       " '빛나는',\n",
       " '우리',\n",
       " '대',\n",
       " '한',\n",
       " '국민',\n",
       " '은',\n",
       " '3',\n",
       " '·',\n",
       " '1',\n",
       " '운동',\n",
       " '으로']"
      ]
     },
     "execution_count": 16,
     "metadata": {},
     "output_type": "execute_result"
    }
   ],
   "source": [
    "okt.morphs(c[:40])"
   ]
  },
  {
   "cell_type": "markdown",
   "metadata": {
    "school_cell_uuid": "ea7e1c31c110485f9016f6f29fbf4148"
   },
   "source": [
    "### 품사 부착"
   ]
  },
  {
   "cell_type": "markdown",
   "metadata": {
    "school_cell_uuid": "babc095b565549e3b9ba71766746f8f6"
   },
   "source": [
    "`pos` 명령을 사용하면 품사 부착을 한다. \n",
    "\n",
    "한국어 품사 태그세트로는 \"21세기 세종계획 품사 태그세트\"를 비롯하여 다양한 품사 태그세트가 있다. 형태소 분석기마다 사용하는 품사 태그가 다르므로 각 형태소 분석기에 대한 문서를 참조한다."
   ]
  },
  {
   "cell_type": "code",
   "execution_count": 17,
   "metadata": {
    "school_cell_uuid": "45070e395aa64359b661f7edd2c5de45"
   },
   "outputs": [
    {
     "data": {
      "text/plain": [
       "[('대한민국헌법', 'N'),\n",
       " ('유구', 'N'),\n",
       " ('하', 'X'),\n",
       " ('ㄴ', 'E'),\n",
       " ('역사', 'N'),\n",
       " ('와', 'J'),\n",
       " ('전통', 'N'),\n",
       " ('에', 'J'),\n",
       " ('빛', 'N'),\n",
       " ('나는', 'J'),\n",
       " ('우리', 'N'),\n",
       " ('대한국민', 'N'),\n",
       " ('은', 'J'),\n",
       " ('3·1운동', 'N'),\n",
       " ('으로', 'J')]"
      ]
     },
     "execution_count": 17,
     "metadata": {},
     "output_type": "execute_result"
    }
   ],
   "source": [
    "hannanum.pos(c[:40])"
   ]
  },
  {
   "cell_type": "code",
   "execution_count": 18,
   "metadata": {
    "school_cell_uuid": "e6501f0aeae14c1cbc9eb562fda0ae94"
   },
   "outputs": [
    {
     "data": {
      "text/plain": [
       "[('대한민국', 'NNG'),\n",
       " ('헌법', 'NNG'),\n",
       " ('유구', 'NNG'),\n",
       " ('하', 'XSV'),\n",
       " ('ㄴ', 'ETD'),\n",
       " ('역사', 'NNG'),\n",
       " ('와', 'JC'),\n",
       " ('전통', 'NNG'),\n",
       " ('에', 'JKM'),\n",
       " ('빛나', 'VV'),\n",
       " ('는', 'ETD'),\n",
       " ('우리', 'NNM'),\n",
       " ('대하', 'VV'),\n",
       " ('ㄴ', 'ETD'),\n",
       " ('국민', 'NNG'),\n",
       " ('은', 'JX'),\n",
       " ('3', 'NR'),\n",
       " ('·', 'SP'),\n",
       " ('1', 'NR'),\n",
       " ('운동', 'NNG'),\n",
       " ('으로', 'JKM')]"
      ]
     },
     "execution_count": 18,
     "metadata": {},
     "output_type": "execute_result"
    }
   ],
   "source": [
    "kkma.pos(c[:40])"
   ]
  },
  {
   "cell_type": "code",
   "execution_count": 19,
   "metadata": {
    "school_cell_uuid": "93d4cc04eb7e4e59a67a33e83bd7b392"
   },
   "outputs": [
    {
     "data": {
      "text/plain": [
       "[('대한민국', 'NNP'),\n",
       " ('헌법', 'NNP'),\n",
       " ('유구', 'XR'),\n",
       " ('하', 'XSA'),\n",
       " ('ㄴ', 'ETM'),\n",
       " ('역사', 'NNG'),\n",
       " ('와', 'JC'),\n",
       " ('전통', 'NNG'),\n",
       " ('에', 'JKB'),\n",
       " ('빛나', 'VV'),\n",
       " ('는', 'ETM'),\n",
       " ('우리', 'NP'),\n",
       " ('대하', 'VV'),\n",
       " ('ㄴ', 'ETM'),\n",
       " ('국민', 'NNP'),\n",
       " ('은', 'JX'),\n",
       " ('3', 'SN'),\n",
       " ('·', 'SP'),\n",
       " ('1', 'SN'),\n",
       " ('운동', 'NNP'),\n",
       " ('으로', 'JKB')]"
      ]
     },
     "execution_count": 19,
     "metadata": {},
     "output_type": "execute_result"
    }
   ],
   "source": [
    "# komoran은 빈줄이 있으면 에러가 남\n",
    "komoran.pos(\"\\n\".join([s for s in c[:40].split(\"\\n\") if s]))"
   ]
  },
  {
   "cell_type": "code",
   "execution_count": 20,
   "metadata": {
    "school_cell_uuid": "e6501f0aeae14c1cbc9eb562fda0ae94"
   },
   "outputs": [
    {
     "data": {
      "text/plain": [
       "[('대한민국', 'NNP'),\n",
       " ('헌법', 'NNG'),\n",
       " ('유구', 'XR'),\n",
       " ('한', 'XSA+ETM'),\n",
       " ('역사', 'NNG'),\n",
       " ('와', 'JC'),\n",
       " ('전통', 'NNG'),\n",
       " ('에', 'JKB'),\n",
       " ('빛나', 'VV'),\n",
       " ('는', 'ETM'),\n",
       " ('우리', 'NP'),\n",
       " ('대한', 'VV+ETM'),\n",
       " ('국민', 'NNG'),\n",
       " ('은', 'JX'),\n",
       " ('3', 'SN'),\n",
       " ('·', 'SC'),\n",
       " ('1', 'SN'),\n",
       " ('운동', 'NNG'),\n",
       " ('으로', 'JKB')]"
      ]
     },
     "execution_count": 20,
     "metadata": {},
     "output_type": "execute_result"
    }
   ],
   "source": [
    "mecab.pos(c[:40])"
   ]
  },
  {
   "cell_type": "code",
   "execution_count": 21,
   "metadata": {
    "school_cell_uuid": "e6501f0aeae14c1cbc9eb562fda0ae94"
   },
   "outputs": [
    {
     "data": {
      "text/plain": [
       "[('대한민국', 'Noun'),\n",
       " ('헌법', 'Noun'),\n",
       " ('\\n\\n', 'Foreign'),\n",
       " ('유구', 'Noun'),\n",
       " ('한', 'Josa'),\n",
       " ('역사', 'Noun'),\n",
       " ('와', 'Josa'),\n",
       " ('전통', 'Noun'),\n",
       " ('에', 'Josa'),\n",
       " ('빛나는', 'Verb'),\n",
       " ('우리', 'Noun'),\n",
       " ('대', 'Modifier'),\n",
       " ('한', 'Modifier'),\n",
       " ('국민', 'Noun'),\n",
       " ('은', 'Josa'),\n",
       " ('3', 'Number'),\n",
       " ('·', 'Punctuation'),\n",
       " ('1', 'Number'),\n",
       " ('운동', 'Noun'),\n",
       " ('으로', 'Josa')]"
      ]
     },
     "execution_count": 21,
     "metadata": {},
     "output_type": "execute_result"
    }
   ],
   "source": [
    "okt.pos(c[:40])"
   ]
  },
  {
   "cell_type": "markdown",
   "metadata": {
    "school_cell_uuid": "40599a8a056f4de6b03dbf9e58fdda18"
   },
   "source": [
    "부착되는 품사 태그의 기호와 의미는 `tagset` 속성으로 확인할 수 있다."
   ]
  },
  {
   "cell_type": "code",
   "execution_count": 22,
   "metadata": {
    "school_cell_uuid": "f8b427e35f7946298b71c4c90635757e"
   },
   "outputs": [
    {
     "data": {
      "text/plain": [
       "{'Adjective': '형용사',\n",
       " 'Adverb': '부사',\n",
       " 'Alpha': '알파벳',\n",
       " 'Conjunction': '접속사',\n",
       " 'Determiner': '관형사',\n",
       " 'Eomi': '어미',\n",
       " 'Exclamation': '감탄사',\n",
       " 'Foreign': '외국어, 한자 및 기타기호',\n",
       " 'Hashtag': '트위터 해쉬태그',\n",
       " 'Josa': '조사',\n",
       " 'KoreanParticle': '(ex: ㅋㅋ)',\n",
       " 'Noun': '명사',\n",
       " 'Number': '숫자',\n",
       " 'PreEomi': '선어말어미',\n",
       " 'Punctuation': '구두점',\n",
       " 'ScreenName': '트위터 아이디',\n",
       " 'Suffix': '접미사',\n",
       " 'Unknown': '미등록어',\n",
       " 'Verb': '동사'}"
      ]
     },
     "execution_count": 22,
     "metadata": {},
     "output_type": "execute_result"
    }
   ],
   "source": [
    "okt.tagset"
   ]
  },
  {
   "cell_type": "code",
   "execution_count": 23,
   "metadata": {
    "school_cell_uuid": "324ee36b8ea246f0b445bf8dffbc92d3"
   },
   "outputs": [
    {
     "data": {
      "text/html": [
       "<div>\n",
       "<style scoped>\n",
       "    .dataframe tbody tr th:only-of-type {\n",
       "        vertical-align: middle;\n",
       "    }\n",
       "\n",
       "    .dataframe tbody tr th {\n",
       "        vertical-align: top;\n",
       "    }\n",
       "\n",
       "    .dataframe thead th {\n",
       "        text-align: right;\n",
       "    }\n",
       "</style>\n",
       "<table border=\"1\" class=\"dataframe\">\n",
       "  <thead>\n",
       "    <tr style=\"text-align: right;\">\n",
       "      <th></th>\n",
       "      <th>Hannanum-기호</th>\n",
       "      <th>Hannanum-품사</th>\n",
       "      <th>Kkma-기호</th>\n",
       "      <th>Kkma-품사</th>\n",
       "      <th>Komoran-기호</th>\n",
       "      <th>Komoran-품사</th>\n",
       "      <th>Mecab-기호</th>\n",
       "      <th>Mecab-품사</th>\n",
       "      <th>OKT-기호</th>\n",
       "      <th>OKT-품사</th>\n",
       "    </tr>\n",
       "  </thead>\n",
       "  <tbody>\n",
       "    <tr>\n",
       "      <th>0</th>\n",
       "      <td>E</td>\n",
       "      <td>어미</td>\n",
       "      <td>EC</td>\n",
       "      <td>연결 어미</td>\n",
       "      <td>EC</td>\n",
       "      <td>연결 어미</td>\n",
       "      <td>EC</td>\n",
       "      <td>연결 어미</td>\n",
       "      <td>Adjective</td>\n",
       "      <td>형용사</td>\n",
       "    </tr>\n",
       "    <tr>\n",
       "      <th>1</th>\n",
       "      <td>EC</td>\n",
       "      <td>연결 어미</td>\n",
       "      <td>ECD</td>\n",
       "      <td>의존적 연결 어미</td>\n",
       "      <td>EF</td>\n",
       "      <td>종결 어미</td>\n",
       "      <td>EF</td>\n",
       "      <td>종결 어미</td>\n",
       "      <td>Adverb</td>\n",
       "      <td>부사</td>\n",
       "    </tr>\n",
       "    <tr>\n",
       "      <th>2</th>\n",
       "      <td>EF</td>\n",
       "      <td>종결 어미</td>\n",
       "      <td>ECE</td>\n",
       "      <td>대등 연결 어미</td>\n",
       "      <td>EP</td>\n",
       "      <td>선어말어미</td>\n",
       "      <td>EP</td>\n",
       "      <td>선어말어미</td>\n",
       "      <td>Alpha</td>\n",
       "      <td>알파벳</td>\n",
       "    </tr>\n",
       "    <tr>\n",
       "      <th>3</th>\n",
       "      <td>EP</td>\n",
       "      <td>선어말어미</td>\n",
       "      <td>ECS</td>\n",
       "      <td>보조적 연결 어미</td>\n",
       "      <td>ETM</td>\n",
       "      <td>관형형 전성 어미</td>\n",
       "      <td>ETM</td>\n",
       "      <td>관형형 전성 어미</td>\n",
       "      <td>Conjunction</td>\n",
       "      <td>접속사</td>\n",
       "    </tr>\n",
       "    <tr>\n",
       "      <th>4</th>\n",
       "      <td>ET</td>\n",
       "      <td>전성 어미</td>\n",
       "      <td>EF</td>\n",
       "      <td>종결 어미</td>\n",
       "      <td>ETN</td>\n",
       "      <td>명사형 전성 어미</td>\n",
       "      <td>ETN</td>\n",
       "      <td>명사형 전성 어미</td>\n",
       "      <td>Determiner</td>\n",
       "      <td>관형사</td>\n",
       "    </tr>\n",
       "    <tr>\n",
       "      <th>5</th>\n",
       "      <td>F</td>\n",
       "      <td>외국어</td>\n",
       "      <td>EFA</td>\n",
       "      <td>청유형 종결 어미</td>\n",
       "      <td>IC</td>\n",
       "      <td>감탄사</td>\n",
       "      <td>IC</td>\n",
       "      <td>감탄사</td>\n",
       "      <td>Eomi</td>\n",
       "      <td>어미</td>\n",
       "    </tr>\n",
       "    <tr>\n",
       "      <th>6</th>\n",
       "      <td>I</td>\n",
       "      <td>독립언</td>\n",
       "      <td>EFI</td>\n",
       "      <td>감탄형 종결 어미</td>\n",
       "      <td>JC</td>\n",
       "      <td>접속 조사</td>\n",
       "      <td>JC</td>\n",
       "      <td>접속 조사</td>\n",
       "      <td>Exclamation</td>\n",
       "      <td>감탄사</td>\n",
       "    </tr>\n",
       "    <tr>\n",
       "      <th>7</th>\n",
       "      <td>II</td>\n",
       "      <td>감탄사</td>\n",
       "      <td>EFN</td>\n",
       "      <td>평서형 종결 어미</td>\n",
       "      <td>JKB</td>\n",
       "      <td>부사격 조사</td>\n",
       "      <td>JKB</td>\n",
       "      <td>부사격 조사</td>\n",
       "      <td>Foreign</td>\n",
       "      <td>외국어, 한자 및 기타기호</td>\n",
       "    </tr>\n",
       "    <tr>\n",
       "      <th>8</th>\n",
       "      <td>J</td>\n",
       "      <td>관계언</td>\n",
       "      <td>EFO</td>\n",
       "      <td>명령형 종결 어미</td>\n",
       "      <td>JKC</td>\n",
       "      <td>보격 조사</td>\n",
       "      <td>JKC</td>\n",
       "      <td>보격 조사</td>\n",
       "      <td>Hashtag</td>\n",
       "      <td>트위터 해쉬태그</td>\n",
       "    </tr>\n",
       "    <tr>\n",
       "      <th>9</th>\n",
       "      <td>JC</td>\n",
       "      <td>격조사</td>\n",
       "      <td>EFQ</td>\n",
       "      <td>의문형 종결 어미</td>\n",
       "      <td>JKG</td>\n",
       "      <td>관형격 조사</td>\n",
       "      <td>JKG</td>\n",
       "      <td>관형격 조사</td>\n",
       "      <td>Josa</td>\n",
       "      <td>조사</td>\n",
       "    </tr>\n",
       "    <tr>\n",
       "      <th>10</th>\n",
       "      <td>JP</td>\n",
       "      <td>서술격 조사</td>\n",
       "      <td>EFR</td>\n",
       "      <td>존칭형 종결 어미</td>\n",
       "      <td>JKO</td>\n",
       "      <td>목적격 조사</td>\n",
       "      <td>JKO</td>\n",
       "      <td>목적격 조사</td>\n",
       "      <td>KoreanParticle</td>\n",
       "      <td>(ex: ㅋㅋ)</td>\n",
       "    </tr>\n",
       "    <tr>\n",
       "      <th>11</th>\n",
       "      <td>JX</td>\n",
       "      <td>보조사</td>\n",
       "      <td>EP</td>\n",
       "      <td>선어말 어미</td>\n",
       "      <td>JKQ</td>\n",
       "      <td>인용격 조사</td>\n",
       "      <td>JKQ</td>\n",
       "      <td>인용격 조사</td>\n",
       "      <td>Noun</td>\n",
       "      <td>명사</td>\n",
       "    </tr>\n",
       "    <tr>\n",
       "      <th>12</th>\n",
       "      <td>M</td>\n",
       "      <td>수식언</td>\n",
       "      <td>EPH</td>\n",
       "      <td>존칭 선어말 어미</td>\n",
       "      <td>JKS</td>\n",
       "      <td>주격 조사</td>\n",
       "      <td>JKS</td>\n",
       "      <td>주격 조사</td>\n",
       "      <td>Number</td>\n",
       "      <td>숫자</td>\n",
       "    </tr>\n",
       "    <tr>\n",
       "      <th>13</th>\n",
       "      <td>MA</td>\n",
       "      <td>부사</td>\n",
       "      <td>EPP</td>\n",
       "      <td>공손 선어말 어미</td>\n",
       "      <td>JKV</td>\n",
       "      <td>호격 조사</td>\n",
       "      <td>JKV</td>\n",
       "      <td>호격 조사</td>\n",
       "      <td>PreEomi</td>\n",
       "      <td>선어말어미</td>\n",
       "    </tr>\n",
       "    <tr>\n",
       "      <th>14</th>\n",
       "      <td>MM</td>\n",
       "      <td>관형사</td>\n",
       "      <td>EPT</td>\n",
       "      <td>시제 선어말 어미</td>\n",
       "      <td>JX</td>\n",
       "      <td>보조사</td>\n",
       "      <td>JX</td>\n",
       "      <td>보조사</td>\n",
       "      <td>Punctuation</td>\n",
       "      <td>구두점</td>\n",
       "    </tr>\n",
       "    <tr>\n",
       "      <th>15</th>\n",
       "      <td>N</td>\n",
       "      <td>체언</td>\n",
       "      <td>ET</td>\n",
       "      <td>전성 어미</td>\n",
       "      <td>MAG</td>\n",
       "      <td>일반 부사</td>\n",
       "      <td>MAG</td>\n",
       "      <td>일반 부사</td>\n",
       "      <td>ScreenName</td>\n",
       "      <td>트위터 아이디</td>\n",
       "    </tr>\n",
       "    <tr>\n",
       "      <th>16</th>\n",
       "      <td>NB</td>\n",
       "      <td>의존명사</td>\n",
       "      <td>ETD</td>\n",
       "      <td>관형형 전성 어미</td>\n",
       "      <td>MAJ</td>\n",
       "      <td>접속 부사</td>\n",
       "      <td>MAJ</td>\n",
       "      <td>접속 부사</td>\n",
       "      <td>Suffix</td>\n",
       "      <td>접미사</td>\n",
       "    </tr>\n",
       "    <tr>\n",
       "      <th>17</th>\n",
       "      <td>NC</td>\n",
       "      <td>보통명사</td>\n",
       "      <td>ETN</td>\n",
       "      <td>명사형 전성 어미</td>\n",
       "      <td>MM</td>\n",
       "      <td>관형사</td>\n",
       "      <td>MM</td>\n",
       "      <td>관형사</td>\n",
       "      <td>Unknown</td>\n",
       "      <td>미등록어</td>\n",
       "    </tr>\n",
       "    <tr>\n",
       "      <th>18</th>\n",
       "      <td>NN</td>\n",
       "      <td>수사</td>\n",
       "      <td>IC</td>\n",
       "      <td>감탄사</td>\n",
       "      <td>NA</td>\n",
       "      <td>분석불능범주</td>\n",
       "      <td>NNB</td>\n",
       "      <td>의존 명사</td>\n",
       "      <td>Verb</td>\n",
       "      <td>동사</td>\n",
       "    </tr>\n",
       "    <tr>\n",
       "      <th>19</th>\n",
       "      <td>NP</td>\n",
       "      <td>대명사</td>\n",
       "      <td>JC</td>\n",
       "      <td>접속 조사</td>\n",
       "      <td>NF</td>\n",
       "      <td>명사추정범주</td>\n",
       "      <td>NNBC</td>\n",
       "      <td>단위를 나타내는 명사</td>\n",
       "      <td>*</td>\n",
       "      <td>*</td>\n",
       "    </tr>\n",
       "    <tr>\n",
       "      <th>20</th>\n",
       "      <td>NQ</td>\n",
       "      <td>고유명사</td>\n",
       "      <td>JK</td>\n",
       "      <td>조사</td>\n",
       "      <td>NNB</td>\n",
       "      <td>의존 명사</td>\n",
       "      <td>NNG</td>\n",
       "      <td>일반 명사</td>\n",
       "      <td>*</td>\n",
       "      <td>*</td>\n",
       "    </tr>\n",
       "    <tr>\n",
       "      <th>21</th>\n",
       "      <td>P</td>\n",
       "      <td>용언</td>\n",
       "      <td>JKC</td>\n",
       "      <td>보격 조사</td>\n",
       "      <td>NNG</td>\n",
       "      <td>일반 명사</td>\n",
       "      <td>NNP</td>\n",
       "      <td>고유 명사</td>\n",
       "      <td>*</td>\n",
       "      <td>*</td>\n",
       "    </tr>\n",
       "    <tr>\n",
       "      <th>22</th>\n",
       "      <td>PA</td>\n",
       "      <td>형용사</td>\n",
       "      <td>JKG</td>\n",
       "      <td>관형격 조사</td>\n",
       "      <td>NNP</td>\n",
       "      <td>고유 명사</td>\n",
       "      <td>NP</td>\n",
       "      <td>대명사</td>\n",
       "      <td>*</td>\n",
       "      <td>*</td>\n",
       "    </tr>\n",
       "    <tr>\n",
       "      <th>23</th>\n",
       "      <td>PV</td>\n",
       "      <td>동사</td>\n",
       "      <td>JKI</td>\n",
       "      <td>호격 조사</td>\n",
       "      <td>NP</td>\n",
       "      <td>대명사</td>\n",
       "      <td>NR</td>\n",
       "      <td>수사</td>\n",
       "      <td>*</td>\n",
       "      <td>*</td>\n",
       "    </tr>\n",
       "    <tr>\n",
       "      <th>24</th>\n",
       "      <td>PX</td>\n",
       "      <td>보조 용언</td>\n",
       "      <td>JKM</td>\n",
       "      <td>부사격 조사</td>\n",
       "      <td>NR</td>\n",
       "      <td>수사</td>\n",
       "      <td>SC</td>\n",
       "      <td>구분자 , · / :</td>\n",
       "      <td>*</td>\n",
       "      <td>*</td>\n",
       "    </tr>\n",
       "    <tr>\n",
       "      <th>25</th>\n",
       "      <td>S</td>\n",
       "      <td>기호</td>\n",
       "      <td>JKO</td>\n",
       "      <td>목적격 조사</td>\n",
       "      <td>NV</td>\n",
       "      <td>용언추정범주</td>\n",
       "      <td>SE</td>\n",
       "      <td>줄임표 …</td>\n",
       "      <td>*</td>\n",
       "      <td>*</td>\n",
       "    </tr>\n",
       "    <tr>\n",
       "      <th>26</th>\n",
       "      <td>X</td>\n",
       "      <td>접사</td>\n",
       "      <td>JKQ</td>\n",
       "      <td>인용격 조사</td>\n",
       "      <td>SE</td>\n",
       "      <td>줄임표</td>\n",
       "      <td>SF</td>\n",
       "      <td>마침표, 물음표, 느낌표</td>\n",
       "      <td>*</td>\n",
       "      <td>*</td>\n",
       "    </tr>\n",
       "    <tr>\n",
       "      <th>27</th>\n",
       "      <td>XP</td>\n",
       "      <td>접두사</td>\n",
       "      <td>JKS</td>\n",
       "      <td>주격 조사</td>\n",
       "      <td>SF</td>\n",
       "      <td>마침표, 물음표, 느낌표</td>\n",
       "      <td>SH</td>\n",
       "      <td>한자</td>\n",
       "      <td>*</td>\n",
       "      <td>*</td>\n",
       "    </tr>\n",
       "    <tr>\n",
       "      <th>28</th>\n",
       "      <td>XS</td>\n",
       "      <td>접미사</td>\n",
       "      <td>JX</td>\n",
       "      <td>보조사</td>\n",
       "      <td>SH</td>\n",
       "      <td>한자</td>\n",
       "      <td>SL</td>\n",
       "      <td>외국어</td>\n",
       "      <td>*</td>\n",
       "      <td>*</td>\n",
       "    </tr>\n",
       "    <tr>\n",
       "      <th>29</th>\n",
       "      <td>*</td>\n",
       "      <td>*</td>\n",
       "      <td>MA</td>\n",
       "      <td>부사</td>\n",
       "      <td>SL</td>\n",
       "      <td>외국어</td>\n",
       "      <td>SN</td>\n",
       "      <td>숫자</td>\n",
       "      <td>*</td>\n",
       "      <td>*</td>\n",
       "    </tr>\n",
       "    <tr>\n",
       "      <th>30</th>\n",
       "      <td>*</td>\n",
       "      <td>*</td>\n",
       "      <td>MAC</td>\n",
       "      <td>접속 부사</td>\n",
       "      <td>SN</td>\n",
       "      <td>숫자</td>\n",
       "      <td>SSC</td>\n",
       "      <td>닫는 괄호 ), ]</td>\n",
       "      <td>*</td>\n",
       "      <td>*</td>\n",
       "    </tr>\n",
       "    <tr>\n",
       "      <th>31</th>\n",
       "      <td>*</td>\n",
       "      <td>*</td>\n",
       "      <td>MAG</td>\n",
       "      <td>일반 부사</td>\n",
       "      <td>SO</td>\n",
       "      <td>붙임표(물결,숨김,빠짐)</td>\n",
       "      <td>SSO</td>\n",
       "      <td>여는 괄호 (, [</td>\n",
       "      <td>*</td>\n",
       "      <td>*</td>\n",
       "    </tr>\n",
       "    <tr>\n",
       "      <th>32</th>\n",
       "      <td>*</td>\n",
       "      <td>*</td>\n",
       "      <td>MD</td>\n",
       "      <td>관형사</td>\n",
       "      <td>SP</td>\n",
       "      <td>쉼표,가운뎃점,콜론,빗금</td>\n",
       "      <td>SY</td>\n",
       "      <td>기타 기호</td>\n",
       "      <td>*</td>\n",
       "      <td>*</td>\n",
       "    </tr>\n",
       "    <tr>\n",
       "      <th>33</th>\n",
       "      <td>*</td>\n",
       "      <td>*</td>\n",
       "      <td>MDN</td>\n",
       "      <td>수 관형사</td>\n",
       "      <td>SS</td>\n",
       "      <td>따옴표,괄호표,줄표</td>\n",
       "      <td>VA</td>\n",
       "      <td>형용사</td>\n",
       "      <td>*</td>\n",
       "      <td>*</td>\n",
       "    </tr>\n",
       "    <tr>\n",
       "      <th>34</th>\n",
       "      <td>*</td>\n",
       "      <td>*</td>\n",
       "      <td>MDT</td>\n",
       "      <td>일반 관형사</td>\n",
       "      <td>SW</td>\n",
       "      <td>기타기호 (논리수학기호,화폐기호)</td>\n",
       "      <td>VCN</td>\n",
       "      <td>부정 지정사</td>\n",
       "      <td>*</td>\n",
       "      <td>*</td>\n",
       "    </tr>\n",
       "    <tr>\n",
       "      <th>35</th>\n",
       "      <td>*</td>\n",
       "      <td>*</td>\n",
       "      <td>NN</td>\n",
       "      <td>명사</td>\n",
       "      <td>VA</td>\n",
       "      <td>형용사</td>\n",
       "      <td>VCP</td>\n",
       "      <td>긍정 지정사</td>\n",
       "      <td>*</td>\n",
       "      <td>*</td>\n",
       "    </tr>\n",
       "    <tr>\n",
       "      <th>36</th>\n",
       "      <td>*</td>\n",
       "      <td>*</td>\n",
       "      <td>NNB</td>\n",
       "      <td>일반 의존 명사</td>\n",
       "      <td>VCN</td>\n",
       "      <td>부정 지정사</td>\n",
       "      <td>VV</td>\n",
       "      <td>동사</td>\n",
       "      <td>*</td>\n",
       "      <td>*</td>\n",
       "    </tr>\n",
       "    <tr>\n",
       "      <th>37</th>\n",
       "      <td>*</td>\n",
       "      <td>*</td>\n",
       "      <td>NNG</td>\n",
       "      <td>보통명사</td>\n",
       "      <td>VCP</td>\n",
       "      <td>긍정 지정사</td>\n",
       "      <td>VX</td>\n",
       "      <td>보조 용언</td>\n",
       "      <td>*</td>\n",
       "      <td>*</td>\n",
       "    </tr>\n",
       "    <tr>\n",
       "      <th>38</th>\n",
       "      <td>*</td>\n",
       "      <td>*</td>\n",
       "      <td>NNM</td>\n",
       "      <td>단위 의존 명사</td>\n",
       "      <td>VV</td>\n",
       "      <td>동사</td>\n",
       "      <td>XPN</td>\n",
       "      <td>체언 접두사</td>\n",
       "      <td>*</td>\n",
       "      <td>*</td>\n",
       "    </tr>\n",
       "    <tr>\n",
       "      <th>39</th>\n",
       "      <td>*</td>\n",
       "      <td>*</td>\n",
       "      <td>NNP</td>\n",
       "      <td>고유명사</td>\n",
       "      <td>VX</td>\n",
       "      <td>보조 용언</td>\n",
       "      <td>XR</td>\n",
       "      <td>어근</td>\n",
       "      <td>*</td>\n",
       "      <td>*</td>\n",
       "    </tr>\n",
       "    <tr>\n",
       "      <th>40</th>\n",
       "      <td>*</td>\n",
       "      <td>*</td>\n",
       "      <td>NP</td>\n",
       "      <td>대명사</td>\n",
       "      <td>XPN</td>\n",
       "      <td>체언 접두사</td>\n",
       "      <td>XSA</td>\n",
       "      <td>형용사 파생 접미사</td>\n",
       "      <td>*</td>\n",
       "      <td>*</td>\n",
       "    </tr>\n",
       "    <tr>\n",
       "      <th>41</th>\n",
       "      <td>*</td>\n",
       "      <td>*</td>\n",
       "      <td>NR</td>\n",
       "      <td>수사</td>\n",
       "      <td>XR</td>\n",
       "      <td>어근</td>\n",
       "      <td>XSN</td>\n",
       "      <td>명사파생 접미사</td>\n",
       "      <td>*</td>\n",
       "      <td>*</td>\n",
       "    </tr>\n",
       "    <tr>\n",
       "      <th>42</th>\n",
       "      <td>*</td>\n",
       "      <td>*</td>\n",
       "      <td>OH</td>\n",
       "      <td>한자</td>\n",
       "      <td>XSA</td>\n",
       "      <td>형용사 파생 접미사</td>\n",
       "      <td>XSV</td>\n",
       "      <td>동사 파생 접미사</td>\n",
       "      <td>*</td>\n",
       "      <td>*</td>\n",
       "    </tr>\n",
       "    <tr>\n",
       "      <th>43</th>\n",
       "      <td>*</td>\n",
       "      <td>*</td>\n",
       "      <td>OL</td>\n",
       "      <td>외국어</td>\n",
       "      <td>XSN</td>\n",
       "      <td>명사파생 접미사</td>\n",
       "      <td>*</td>\n",
       "      <td>*</td>\n",
       "      <td>*</td>\n",
       "      <td>*</td>\n",
       "    </tr>\n",
       "    <tr>\n",
       "      <th>44</th>\n",
       "      <td>*</td>\n",
       "      <td>*</td>\n",
       "      <td>ON</td>\n",
       "      <td>숫자</td>\n",
       "      <td>XSV</td>\n",
       "      <td>동사 파생 접미사</td>\n",
       "      <td>*</td>\n",
       "      <td>*</td>\n",
       "      <td>*</td>\n",
       "      <td>*</td>\n",
       "    </tr>\n",
       "    <tr>\n",
       "      <th>45</th>\n",
       "      <td>*</td>\n",
       "      <td>*</td>\n",
       "      <td>SE</td>\n",
       "      <td>줄임표</td>\n",
       "      <td>*</td>\n",
       "      <td>*</td>\n",
       "      <td>*</td>\n",
       "      <td>*</td>\n",
       "      <td>*</td>\n",
       "      <td>*</td>\n",
       "    </tr>\n",
       "    <tr>\n",
       "      <th>46</th>\n",
       "      <td>*</td>\n",
       "      <td>*</td>\n",
       "      <td>SF</td>\n",
       "      <td>마침표, 물음표, 느낌표</td>\n",
       "      <td>*</td>\n",
       "      <td>*</td>\n",
       "      <td>*</td>\n",
       "      <td>*</td>\n",
       "      <td>*</td>\n",
       "      <td>*</td>\n",
       "    </tr>\n",
       "    <tr>\n",
       "      <th>47</th>\n",
       "      <td>*</td>\n",
       "      <td>*</td>\n",
       "      <td>SO</td>\n",
       "      <td>붙임표(물결,숨김,빠짐)</td>\n",
       "      <td>*</td>\n",
       "      <td>*</td>\n",
       "      <td>*</td>\n",
       "      <td>*</td>\n",
       "      <td>*</td>\n",
       "      <td>*</td>\n",
       "    </tr>\n",
       "    <tr>\n",
       "      <th>48</th>\n",
       "      <td>*</td>\n",
       "      <td>*</td>\n",
       "      <td>SP</td>\n",
       "      <td>쉼표,가운뎃점,콜론,빗금</td>\n",
       "      <td>*</td>\n",
       "      <td>*</td>\n",
       "      <td>*</td>\n",
       "      <td>*</td>\n",
       "      <td>*</td>\n",
       "      <td>*</td>\n",
       "    </tr>\n",
       "    <tr>\n",
       "      <th>49</th>\n",
       "      <td>*</td>\n",
       "      <td>*</td>\n",
       "      <td>SS</td>\n",
       "      <td>따옴표,괄호표,줄표</td>\n",
       "      <td>*</td>\n",
       "      <td>*</td>\n",
       "      <td>*</td>\n",
       "      <td>*</td>\n",
       "      <td>*</td>\n",
       "      <td>*</td>\n",
       "    </tr>\n",
       "    <tr>\n",
       "      <th>50</th>\n",
       "      <td>*</td>\n",
       "      <td>*</td>\n",
       "      <td>SW</td>\n",
       "      <td>기타기호 (논리수학기호,화폐기호)</td>\n",
       "      <td>*</td>\n",
       "      <td>*</td>\n",
       "      <td>*</td>\n",
       "      <td>*</td>\n",
       "      <td>*</td>\n",
       "      <td>*</td>\n",
       "    </tr>\n",
       "    <tr>\n",
       "      <th>51</th>\n",
       "      <td>*</td>\n",
       "      <td>*</td>\n",
       "      <td>UN</td>\n",
       "      <td>명사추정범주</td>\n",
       "      <td>*</td>\n",
       "      <td>*</td>\n",
       "      <td>*</td>\n",
       "      <td>*</td>\n",
       "      <td>*</td>\n",
       "      <td>*</td>\n",
       "    </tr>\n",
       "    <tr>\n",
       "      <th>52</th>\n",
       "      <td>*</td>\n",
       "      <td>*</td>\n",
       "      <td>VA</td>\n",
       "      <td>형용사</td>\n",
       "      <td>*</td>\n",
       "      <td>*</td>\n",
       "      <td>*</td>\n",
       "      <td>*</td>\n",
       "      <td>*</td>\n",
       "      <td>*</td>\n",
       "    </tr>\n",
       "    <tr>\n",
       "      <th>53</th>\n",
       "      <td>*</td>\n",
       "      <td>*</td>\n",
       "      <td>VC</td>\n",
       "      <td>지정사</td>\n",
       "      <td>*</td>\n",
       "      <td>*</td>\n",
       "      <td>*</td>\n",
       "      <td>*</td>\n",
       "      <td>*</td>\n",
       "      <td>*</td>\n",
       "    </tr>\n",
       "    <tr>\n",
       "      <th>54</th>\n",
       "      <td>*</td>\n",
       "      <td>*</td>\n",
       "      <td>VCN</td>\n",
       "      <td>부정 지정사, 형용사 '아니다'</td>\n",
       "      <td>*</td>\n",
       "      <td>*</td>\n",
       "      <td>*</td>\n",
       "      <td>*</td>\n",
       "      <td>*</td>\n",
       "      <td>*</td>\n",
       "    </tr>\n",
       "    <tr>\n",
       "      <th>55</th>\n",
       "      <td>*</td>\n",
       "      <td>*</td>\n",
       "      <td>VCP</td>\n",
       "      <td>긍정 지정사, 서술격 조사 '이다'</td>\n",
       "      <td>*</td>\n",
       "      <td>*</td>\n",
       "      <td>*</td>\n",
       "      <td>*</td>\n",
       "      <td>*</td>\n",
       "      <td>*</td>\n",
       "    </tr>\n",
       "    <tr>\n",
       "      <th>56</th>\n",
       "      <td>*</td>\n",
       "      <td>*</td>\n",
       "      <td>VV</td>\n",
       "      <td>동사</td>\n",
       "      <td>*</td>\n",
       "      <td>*</td>\n",
       "      <td>*</td>\n",
       "      <td>*</td>\n",
       "      <td>*</td>\n",
       "      <td>*</td>\n",
       "    </tr>\n",
       "    <tr>\n",
       "      <th>57</th>\n",
       "      <td>*</td>\n",
       "      <td>*</td>\n",
       "      <td>VX</td>\n",
       "      <td>보조 용언</td>\n",
       "      <td>*</td>\n",
       "      <td>*</td>\n",
       "      <td>*</td>\n",
       "      <td>*</td>\n",
       "      <td>*</td>\n",
       "      <td>*</td>\n",
       "    </tr>\n",
       "    <tr>\n",
       "      <th>58</th>\n",
       "      <td>*</td>\n",
       "      <td>*</td>\n",
       "      <td>VXA</td>\n",
       "      <td>보조 형용사</td>\n",
       "      <td>*</td>\n",
       "      <td>*</td>\n",
       "      <td>*</td>\n",
       "      <td>*</td>\n",
       "      <td>*</td>\n",
       "      <td>*</td>\n",
       "    </tr>\n",
       "    <tr>\n",
       "      <th>59</th>\n",
       "      <td>*</td>\n",
       "      <td>*</td>\n",
       "      <td>VXV</td>\n",
       "      <td>보조 동사</td>\n",
       "      <td>*</td>\n",
       "      <td>*</td>\n",
       "      <td>*</td>\n",
       "      <td>*</td>\n",
       "      <td>*</td>\n",
       "      <td>*</td>\n",
       "    </tr>\n",
       "    <tr>\n",
       "      <th>60</th>\n",
       "      <td>*</td>\n",
       "      <td>*</td>\n",
       "      <td>XP</td>\n",
       "      <td>접두사</td>\n",
       "      <td>*</td>\n",
       "      <td>*</td>\n",
       "      <td>*</td>\n",
       "      <td>*</td>\n",
       "      <td>*</td>\n",
       "      <td>*</td>\n",
       "    </tr>\n",
       "    <tr>\n",
       "      <th>61</th>\n",
       "      <td>*</td>\n",
       "      <td>*</td>\n",
       "      <td>XPN</td>\n",
       "      <td>체언 접두사</td>\n",
       "      <td>*</td>\n",
       "      <td>*</td>\n",
       "      <td>*</td>\n",
       "      <td>*</td>\n",
       "      <td>*</td>\n",
       "      <td>*</td>\n",
       "    </tr>\n",
       "    <tr>\n",
       "      <th>62</th>\n",
       "      <td>*</td>\n",
       "      <td>*</td>\n",
       "      <td>XPV</td>\n",
       "      <td>용언 접두사</td>\n",
       "      <td>*</td>\n",
       "      <td>*</td>\n",
       "      <td>*</td>\n",
       "      <td>*</td>\n",
       "      <td>*</td>\n",
       "      <td>*</td>\n",
       "    </tr>\n",
       "    <tr>\n",
       "      <th>63</th>\n",
       "      <td>*</td>\n",
       "      <td>*</td>\n",
       "      <td>XR</td>\n",
       "      <td>어근</td>\n",
       "      <td>*</td>\n",
       "      <td>*</td>\n",
       "      <td>*</td>\n",
       "      <td>*</td>\n",
       "      <td>*</td>\n",
       "      <td>*</td>\n",
       "    </tr>\n",
       "    <tr>\n",
       "      <th>64</th>\n",
       "      <td>*</td>\n",
       "      <td>*</td>\n",
       "      <td>XSA</td>\n",
       "      <td>형용사 파생 접미사</td>\n",
       "      <td>*</td>\n",
       "      <td>*</td>\n",
       "      <td>*</td>\n",
       "      <td>*</td>\n",
       "      <td>*</td>\n",
       "      <td>*</td>\n",
       "    </tr>\n",
       "    <tr>\n",
       "      <th>65</th>\n",
       "      <td>*</td>\n",
       "      <td>*</td>\n",
       "      <td>XSN</td>\n",
       "      <td>명사파생 접미사</td>\n",
       "      <td>*</td>\n",
       "      <td>*</td>\n",
       "      <td>*</td>\n",
       "      <td>*</td>\n",
       "      <td>*</td>\n",
       "      <td>*</td>\n",
       "    </tr>\n",
       "    <tr>\n",
       "      <th>66</th>\n",
       "      <td>*</td>\n",
       "      <td>*</td>\n",
       "      <td>XSV</td>\n",
       "      <td>동사 파생 접미사</td>\n",
       "      <td>*</td>\n",
       "      <td>*</td>\n",
       "      <td>*</td>\n",
       "      <td>*</td>\n",
       "      <td>*</td>\n",
       "      <td>*</td>\n",
       "    </tr>\n",
       "  </tbody>\n",
       "</table>\n",
       "</div>"
      ],
      "text/plain": [
       "   Hannanum-기호 Hannanum-품사 Kkma-기호              Kkma-품사 Komoran-기호  \\\n",
       "0            E          어미      EC                연결 어미         EC   \n",
       "1           EC       연결 어미     ECD            의존적 연결 어미         EF   \n",
       "2           EF       종결 어미     ECE             대등 연결 어미         EP   \n",
       "3           EP       선어말어미     ECS            보조적 연결 어미        ETM   \n",
       "4           ET       전성 어미      EF                종결 어미        ETN   \n",
       "5            F         외국어     EFA            청유형 종결 어미         IC   \n",
       "6            I         독립언     EFI            감탄형 종결 어미         JC   \n",
       "7           II         감탄사     EFN            평서형 종결 어미        JKB   \n",
       "8            J         관계언     EFO            명령형 종결 어미        JKC   \n",
       "9           JC         격조사     EFQ            의문형 종결 어미        JKG   \n",
       "10          JP      서술격 조사     EFR            존칭형 종결 어미        JKO   \n",
       "11          JX         보조사      EP               선어말 어미        JKQ   \n",
       "12           M         수식언     EPH            존칭 선어말 어미        JKS   \n",
       "13          MA          부사     EPP            공손 선어말 어미        JKV   \n",
       "14          MM         관형사     EPT            시제 선어말 어미         JX   \n",
       "15           N          체언      ET                전성 어미        MAG   \n",
       "16          NB        의존명사     ETD            관형형 전성 어미        MAJ   \n",
       "17          NC        보통명사     ETN            명사형 전성 어미         MM   \n",
       "18          NN          수사      IC                  감탄사         NA   \n",
       "19          NP         대명사      JC                접속 조사         NF   \n",
       "20          NQ        고유명사      JK                   조사        NNB   \n",
       "21           P          용언     JKC                보격 조사        NNG   \n",
       "22          PA         형용사     JKG               관형격 조사        NNP   \n",
       "23          PV          동사     JKI                호격 조사         NP   \n",
       "24          PX       보조 용언     JKM               부사격 조사         NR   \n",
       "25           S          기호     JKO               목적격 조사         NV   \n",
       "26           X          접사     JKQ               인용격 조사         SE   \n",
       "27          XP         접두사     JKS                주격 조사         SF   \n",
       "28          XS         접미사      JX                  보조사         SH   \n",
       "29           *           *      MA                   부사         SL   \n",
       "30           *           *     MAC                접속 부사         SN   \n",
       "31           *           *     MAG                일반 부사         SO   \n",
       "32           *           *      MD                  관형사         SP   \n",
       "33           *           *     MDN                수 관형사         SS   \n",
       "34           *           *     MDT               일반 관형사         SW   \n",
       "35           *           *      NN                   명사         VA   \n",
       "36           *           *     NNB             일반 의존 명사        VCN   \n",
       "37           *           *     NNG                 보통명사        VCP   \n",
       "38           *           *     NNM             단위 의존 명사         VV   \n",
       "39           *           *     NNP                 고유명사         VX   \n",
       "40           *           *      NP                  대명사        XPN   \n",
       "41           *           *      NR                   수사         XR   \n",
       "42           *           *      OH                   한자        XSA   \n",
       "43           *           *      OL                  외국어        XSN   \n",
       "44           *           *      ON                   숫자        XSV   \n",
       "45           *           *      SE                  줄임표          *   \n",
       "46           *           *      SF        마침표, 물음표, 느낌표          *   \n",
       "47           *           *      SO        붙임표(물결,숨김,빠짐)          *   \n",
       "48           *           *      SP        쉼표,가운뎃점,콜론,빗금          *   \n",
       "49           *           *      SS           따옴표,괄호표,줄표          *   \n",
       "50           *           *      SW   기타기호 (논리수학기호,화폐기호)          *   \n",
       "51           *           *      UN               명사추정범주          *   \n",
       "52           *           *      VA                  형용사          *   \n",
       "53           *           *      VC                  지정사          *   \n",
       "54           *           *     VCN    부정 지정사, 형용사 '아니다'          *   \n",
       "55           *           *     VCP  긍정 지정사, 서술격 조사 '이다'          *   \n",
       "56           *           *      VV                   동사          *   \n",
       "57           *           *      VX                보조 용언          *   \n",
       "58           *           *     VXA               보조 형용사          *   \n",
       "59           *           *     VXV                보조 동사          *   \n",
       "60           *           *      XP                  접두사          *   \n",
       "61           *           *     XPN               체언 접두사          *   \n",
       "62           *           *     XPV               용언 접두사          *   \n",
       "63           *           *      XR                   어근          *   \n",
       "64           *           *     XSA           형용사 파생 접미사          *   \n",
       "65           *           *     XSN             명사파생 접미사          *   \n",
       "66           *           *     XSV            동사 파생 접미사          *   \n",
       "\n",
       "            Komoran-품사 Mecab-기호       Mecab-품사          OKT-기호          OKT-품사  \n",
       "0                연결 어미       EC          연결 어미       Adjective             형용사  \n",
       "1                종결 어미       EF          종결 어미          Adverb              부사  \n",
       "2                선어말어미       EP          선어말어미           Alpha             알파벳  \n",
       "3            관형형 전성 어미      ETM      관형형 전성 어미     Conjunction             접속사  \n",
       "4            명사형 전성 어미      ETN      명사형 전성 어미      Determiner             관형사  \n",
       "5                  감탄사       IC            감탄사            Eomi              어미  \n",
       "6                접속 조사       JC          접속 조사     Exclamation             감탄사  \n",
       "7               부사격 조사      JKB         부사격 조사         Foreign  외국어, 한자 및 기타기호  \n",
       "8                보격 조사      JKC          보격 조사         Hashtag        트위터 해쉬태그  \n",
       "9               관형격 조사      JKG         관형격 조사            Josa              조사  \n",
       "10              목적격 조사      JKO         목적격 조사  KoreanParticle        (ex: ㅋㅋ)  \n",
       "11              인용격 조사      JKQ         인용격 조사            Noun              명사  \n",
       "12               주격 조사      JKS          주격 조사          Number              숫자  \n",
       "13               호격 조사      JKV          호격 조사         PreEomi           선어말어미  \n",
       "14                 보조사       JX            보조사     Punctuation             구두점  \n",
       "15               일반 부사      MAG          일반 부사      ScreenName         트위터 아이디  \n",
       "16               접속 부사      MAJ          접속 부사          Suffix             접미사  \n",
       "17                 관형사       MM            관형사         Unknown            미등록어  \n",
       "18              분석불능범주      NNB          의존 명사            Verb              동사  \n",
       "19              명사추정범주     NNBC    단위를 나타내는 명사               *               *  \n",
       "20               의존 명사      NNG          일반 명사               *               *  \n",
       "21               일반 명사      NNP          고유 명사               *               *  \n",
       "22               고유 명사       NP            대명사               *               *  \n",
       "23                 대명사       NR             수사               *               *  \n",
       "24                  수사       SC    구분자 , · / :               *               *  \n",
       "25              용언추정범주       SE          줄임표 …               *               *  \n",
       "26                 줄임표       SF  마침표, 물음표, 느낌표               *               *  \n",
       "27       마침표, 물음표, 느낌표       SH             한자               *               *  \n",
       "28                  한자       SL            외국어               *               *  \n",
       "29                 외국어       SN             숫자               *               *  \n",
       "30                  숫자      SSC     닫는 괄호 ), ]               *               *  \n",
       "31       붙임표(물결,숨김,빠짐)      SSO     여는 괄호 (, [               *               *  \n",
       "32       쉼표,가운뎃점,콜론,빗금       SY          기타 기호               *               *  \n",
       "33          따옴표,괄호표,줄표       VA            형용사               *               *  \n",
       "34  기타기호 (논리수학기호,화폐기호)      VCN         부정 지정사               *               *  \n",
       "35                 형용사      VCP         긍정 지정사               *               *  \n",
       "36              부정 지정사       VV             동사               *               *  \n",
       "37              긍정 지정사       VX          보조 용언               *               *  \n",
       "38                  동사      XPN         체언 접두사               *               *  \n",
       "39               보조 용언       XR             어근               *               *  \n",
       "40              체언 접두사      XSA     형용사 파생 접미사               *               *  \n",
       "41                  어근      XSN       명사파생 접미사               *               *  \n",
       "42          형용사 파생 접미사      XSV      동사 파생 접미사               *               *  \n",
       "43            명사파생 접미사        *              *               *               *  \n",
       "44           동사 파생 접미사        *              *               *               *  \n",
       "45                   *        *              *               *               *  \n",
       "46                   *        *              *               *               *  \n",
       "47                   *        *              *               *               *  \n",
       "48                   *        *              *               *               *  \n",
       "49                   *        *              *               *               *  \n",
       "50                   *        *              *               *               *  \n",
       "51                   *        *              *               *               *  \n",
       "52                   *        *              *               *               *  \n",
       "53                   *        *              *               *               *  \n",
       "54                   *        *              *               *               *  \n",
       "55                   *        *              *               *               *  \n",
       "56                   *        *              *               *               *  \n",
       "57                   *        *              *               *               *  \n",
       "58                   *        *              *               *               *  \n",
       "59                   *        *              *               *               *  \n",
       "60                   *        *              *               *               *  \n",
       "61                   *        *              *               *               *  \n",
       "62                   *        *              *               *               *  \n",
       "63                   *        *              *               *               *  \n",
       "64                   *        *              *               *               *  \n",
       "65                   *        *              *               *               *  \n",
       "66                   *        *              *               *               *  "
      ]
     },
     "execution_count": 23,
     "metadata": {},
     "output_type": "execute_result"
    }
   ],
   "source": [
    "tagsets = pd.DataFrame()\n",
    "N = 67\n",
    "tagsets[\"Hannanum-기호\"] = list(hannanum.tagset.keys()) + list(\"*\" * (N - len(hannanum.tagset)))\n",
    "tagsets[\"Hannanum-품사\"] = list(hannanum.tagset.values()) + list(\"*\" * (N - len(hannanum.tagset)))\n",
    "tagsets[\"Kkma-기호\"] = list(kkma.tagset.keys()) + list(\"*\" * (N - len(kkma.tagset)))\n",
    "tagsets[\"Kkma-품사\"] = list(kkma.tagset.values()) + list(\"*\" * (N - len(kkma.tagset)))\n",
    "tagsets[\"Komoran-기호\"] = list(komoran.tagset.keys()) + list(\"*\" * (N - len(komoran.tagset)))\n",
    "tagsets[\"Komoran-품사\"] = list(komoran.tagset.values()) + list(\"*\" * (N - len(komoran.tagset)))\n",
    "tagsets[\"Mecab-기호\"] = list(mecab.tagset.keys()) + list(\"*\" * (N - len(mecab.tagset)))\n",
    "tagsets[\"Mecab-품사\"] = list(mecab.tagset.values()) + list(\"*\" * (N - len(mecab.tagset)))\n",
    "tagsets[\"OKT-기호\"] = list(okt.tagset.keys()) + list(\"*\" * (N - len(okt.tagset)))\n",
    "tagsets[\"OKT-품사\"] = list(okt.tagset.values()) + list(\"*\" * (N - len(okt.tagset)))\n",
    "tagsets"
   ]
  },
  {
   "cell_type": "markdown",
   "metadata": {
    "school_cell_uuid": "b7034fbcbebb4195a0a3fe7aab6809ae"
   },
   "source": [
    "koNLPy의 형태소 분석기와 NLTK의 Text 클래스를 결합하여 NLTK 기능을 사용할 수도 있다."
   ]
  },
  {
   "cell_type": "code",
   "execution_count": 24,
   "metadata": {
    "school_cell_uuid": "b794bec4540b40f4816f32921d7df992"
   },
   "outputs": [
    {
     "data": {
      "image/png": "[encoded data removed]",
      "text/plain": [
       "<Figure size 432x288 with 1 Axes>"
      ]
     },
     "metadata": {
      "needs_background": "light"
     },
     "output_type": "display_data"
    }
   ],
   "source": [
    "from nltk import Text\n",
    "\n",
    "kolaw = Text(okt.nouns(c), name=\"kolaw\")\n",
    "kolaw.plot(30)\n",
    "plt.show()"
   ]
  },
  {
   "cell_type": "code",
   "execution_count": 25,
   "metadata": {
    "school_cell_uuid": "39f7801606294220ad1e04a45fa43183"
   },
   "outputs": [
    {
     "data": {
      "image/png": "[encoded data removed]",
      "text/plain": [
       "<Figure size 432x288 with 1 Axes>"
      ]
     },
     "metadata": {
      "needs_background": "light"
     },
     "output_type": "display_data"
    }
   ],
   "source": [
    "from wordcloud import WordCloud\n",
    "\n",
    "# 자신의 컴퓨터 환경에 맞는 한글 폰트 경로를 설정\n",
    "font_path = '/usr/share/fonts/truetype/nanum/NanumGothicCoding.ttf'\n",
    "\n",
    "wc = WordCloud(width = 1000, height = 600, background_color=\"white\", font_path=font_path)\n",
    "plt.imshow(wc.generate_from_frequencies(kolaw.vocab()))\n",
    "plt.axis(\"off\")\n",
    "plt.show()"
   ]
  }
 ],
 "metadata": {
  "kernelspec": {
   "display_name": "Python 3",
   "language": "python",
   "name": "python3"
  },
  "language_info": {
   "codemirror_mode": {
    "name": "ipython",
    "version": 3
   },
   "file_extension": ".py",
   "mimetype": "text/x-python",
   "name": "python",
   "nbconvert_exporter": "python",
   "pygments_lexer": "ipython3",
   "version": "3.6.9"
  },
  "toc": {
   "base_numbering": 1,
   "nav_menu": {},
   "number_sections": false,
   "sideBar": true,
   "skip_h1_title": false,
   "title_cell": "Table of Contents",
   "title_sidebar": "Contents",
   "toc_cell": false,
   "toc_position": {},
   "toc_section_display": true,
   "toc_window_display": false
  }
 },
 "nbformat": 4,
 "nbformat_minor": 4
}
