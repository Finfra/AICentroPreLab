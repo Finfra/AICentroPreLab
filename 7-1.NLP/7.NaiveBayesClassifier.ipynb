{
 "cells": [
  {
   "cell_type": "markdown",
   "metadata": {},
   "source": [
    "# Documents and Words \n",
    "## docclass.py, getwords to extract the features from the text\n",
    "* Source : https://gist.githubusercontent.com/unlimitedfocus/7200425/raw/c34f7ed8722e40a30caf6efe270504c29ecf7c20/gistfile1.txt"
   ]
  },
  {
   "cell_type": "code",
   "execution_count": 1,
   "metadata": {},
   "outputs": [
    {
     "name": "stdout",
     "output_type": "stream",
     "text": [
      "Looking in indexes: http://aicentro-nexus-svc.aicentro-system:8081/hub-nexus/repository/pypi-group/simple\n",
      "Collecting absl-py\n",
      "  Downloading http://aicentro-nexus-svc.aicentro-system:8081/hub-nexus/repository/pypi-group/packages/absl-py/0.10.0/absl_py-0.10.0-py3-none-any.whl (127 kB)\n",
      "\u001b[K     |████████████████████████████████| 127 kB 90.4 MB/s eta 0:00:01\n",
      "\u001b[?25hRequirement already satisfied, skipping upgrade: six in /usr/local/lib/python3.6/dist-packages (from absl-py) (1.14.0)\n",
      "Installing collected packages: absl-py\n",
      "  Attempting uninstall: absl-py\n",
      "    Found existing installation: absl-py 0.9.0\n",
      "    Uninstalling absl-py-0.9.0:\n",
      "      Successfully uninstalled absl-py-0.9.0\n",
      "Successfully installed absl-py-0.10.0\n",
      "\u001b[33mWARNING: You are using pip version 20.1; however, version 20.2.3 is available.\n",
      "You should consider upgrading via the '/usr/bin/python3 -m pip install --upgrade pip' command.\u001b[0m\n"
     ]
    }
   ],
   "source": [
    "import re\n",
    "import math\n",
    "def getwords(doc):\n",
    "    splitter=re.compile('\\\\W*')\n",
    "    # Split the words by non-alpha characters\n",
    "    words=[s.lower( ) for s in splitter.split(doc)\n",
    "        if len(s)>2 and len(s)<20]\n",
    "    \n",
    "    # Return the unique set of words only\n",
    "    return dict([(w,1) for w in words])\n",
    "import warnings\n",
    "warnings.simplefilter(action='ignore', category=FutureWarning)\n",
    "!pip install --upgrade absl-py"
   ]
  },
  {
   "cell_type": "markdown",
   "metadata": {},
   "source": [
    "# Training the Classifier \n",
    "## Create a class called classifier"
   ]
  },
  {
   "cell_type": "code",
   "execution_count": 2,
   "metadata": {},
   "outputs": [],
   "source": [
    "class classifier:\n",
    "    def __init__(self,getfeatures,filename=None):\n",
    "        # Counts of feature/category combinations\n",
    "        self.fc={}\n",
    "        # Counts of documents in each category\n",
    "        self.cc={}\n",
    "        self.getfeatures=getfeatures\n",
    "        \n",
    "    def train(self,item,cat):\n",
    "        features=self.getfeatures(item)\n",
    "        # Increment the count for every feature with this category\n",
    "        for f in features:\n",
    "            self.incf(f,cat)\n",
    "            \n",
    "        # Increment the count for this category\n",
    "        self.incc(cat)\n",
    "        \n",
    "    # Increase the count of a feature/category pair\n",
    "    def incf(self,f,cat):\n",
    "        self.fc.setdefault(f,{})\n",
    "        self.fc[f].setdefault(cat,0)\n",
    "        self.fc[f][cat]+=1\n",
    "        \n",
    "    # Increase the count of a category\n",
    "    def incc(self,cat):\n",
    "        self.cc.setdefault(cat,0)\n",
    "        self.cc[cat]+=1\n",
    "        \n",
    "    # The number of times a feature has appeared in a category\n",
    "    def fcount(self,f,cat):\n",
    "        if f in self.fc and cat in self.fc[f]:\n",
    "            return float(self.fc[f][cat])\n",
    "        return 0.0\n",
    "    \n",
    "    # The number of items in a category\n",
    "    def catcount(self,cat):\n",
    "        if cat in self.cc:\n",
    "            return float(self.cc[cat])\n",
    "        return 0\n",
    "    \n",
    "    # The total number of items\n",
    "    def totalcount(self):\n",
    "        return sum(self.cc.values())\n",
    "    \n",
    "    # The list of all categories\n",
    "    def categories(self):\n",
    "        return self.cc.keys()"
   ]
  },
  {
   "cell_type": "code",
   "execution_count": 3,
   "metadata": {},
   "outputs": [],
   "source": [
    "cl = classifier(getwords)"
   ]
  },
  {
   "cell_type": "code",
   "execution_count": 4,
   "metadata": {},
   "outputs": [],
   "source": [
    "cl.train('the quick brown fox jumps over the lazy dog','good')"
   ]
  },
  {
   "cell_type": "code",
   "execution_count": 5,
   "metadata": {},
   "outputs": [],
   "source": [
    "cl.train('make quick money in the online casino','bad')"
   ]
  },
  {
   "cell_type": "code",
   "execution_count": 6,
   "metadata": {},
   "outputs": [
    {
     "data": {
      "text/plain": [
       "1.0"
      ]
     },
     "execution_count": 6,
     "metadata": {},
     "output_type": "execute_result"
    }
   ],
   "source": [
    "cl.fcount('quick','good')"
   ]
  },
  {
   "cell_type": "code",
   "execution_count": 7,
   "metadata": {},
   "outputs": [
    {
     "data": {
      "text/plain": [
       "1.0"
      ]
     },
     "execution_count": 7,
     "metadata": {},
     "output_type": "execute_result"
    }
   ],
   "source": [
    "cl.fcount('quick','bad')"
   ]
  },
  {
   "cell_type": "code",
   "execution_count": 8,
   "metadata": {},
   "outputs": [
    {
     "data": {
      "text/plain": [
       "0.0"
      ]
     },
     "execution_count": 8,
     "metadata": {},
     "output_type": "execute_result"
    }
   ],
   "source": [
    "cl.fcount('casino', 'good')"
   ]
  },
  {
   "cell_type": "code",
   "execution_count": 9,
   "metadata": {},
   "outputs": [
    {
     "data": {
      "text/plain": [
       "1.0"
      ]
     },
     "execution_count": 9,
     "metadata": {},
     "output_type": "execute_result"
    }
   ],
   "source": [
    "cl.fcount('casino', 'bad')"
   ]
  },
  {
   "cell_type": "code",
   "execution_count": 10,
   "metadata": {},
   "outputs": [],
   "source": [
    "def sampletrain(cl):\n",
    "    cl.train('Nobody owns the water.','good')\n",
    "    cl.train('the quick rabbit jumps fences','good')\n",
    "    cl.train('buy pharmaceuticals now','bad')\n",
    "    cl.train('make quick money at the online casino','bad')\n",
    "    cl.train('the quick brown fox jumps','good')"
   ]
  },
  {
   "cell_type": "markdown",
   "metadata": {},
   "source": [
    "## Calculating Probabilities"
   ]
  },
  {
   "cell_type": "code",
   "execution_count": 11,
   "metadata": {},
   "outputs": [],
   "source": [
    "class classifier2:\n",
    "    def __init__(self,getfeatures,filename=None):\n",
    "        # Counts of feature/category combinations\n",
    "        self.fc={}\n",
    "        # Counts of documents in each category\n",
    "        self.cc={}\n",
    "        self.getfeatures=getfeatures\n",
    "        \n",
    "    def train(self,item,cat):\n",
    "        features=self.getfeatures(item)\n",
    "        # Increment the count for every feature with this category\n",
    "        for f in features:\n",
    "            self.incf(f,cat)\n",
    "            \n",
    "        # Increment the count for this category\n",
    "        self.incc(cat)\n",
    "    # Increase the count of a feature/category pair\n",
    "    def incf(self,f,cat):\n",
    "        self.fc.setdefault(f,{})\n",
    "        self.fc[f].setdefault(cat,0)\n",
    "        self.fc[f][cat]+=1\n",
    "        \n",
    "    # Increase the count of a category\n",
    "    def incc(self,cat):\n",
    "        self.cc.setdefault(cat,0)\n",
    "        self.cc[cat]+=1\n",
    "        \n",
    "    # The number of times a feature has appeared in a category\n",
    "    def fcount(self,f,cat):\n",
    "        if f in self.fc and cat in self.fc[f]:\n",
    "            return float(self.fc[f][cat])\n",
    "        return 0.0\n",
    "    \n",
    "    # The number of items in a category\n",
    "    def catcount(self,cat):\n",
    "        if cat in self.cc:\n",
    "            return float(self.cc[cat])\n",
    "        return 0\n",
    "    \n",
    "    # The total number of items\n",
    "    def totalcount(self):\n",
    "        return sum(self.cc.values())\n",
    "    \n",
    "    # The list of all categories\n",
    "    def categories(self):\n",
    "        return self.cc.keys()\n",
    "    \n",
    "    def fprob(self,f,cat):\n",
    "        if self.catcount(cat)==0: return 0\n",
    "            # The total number of times this feature appeared in this\n",
    "            # category divided by the total number of items in this category\n",
    "        return self.fcount(f,cat)/self.catcount(cat)\n",
    "    "
   ]
  },
  {
   "cell_type": "code",
   "execution_count": 12,
   "metadata": {},
   "outputs": [],
   "source": [
    "cl2 = classifier2(getwords)"
   ]
  },
  {
   "cell_type": "code",
   "execution_count": 13,
   "metadata": {},
   "outputs": [],
   "source": [
    "sampletrain(cl2)"
   ]
  },
  {
   "cell_type": "code",
   "execution_count": 14,
   "metadata": {},
   "outputs": [
    {
     "data": {
      "text/plain": [
       "0.6666666666666666"
      ]
     },
     "execution_count": 14,
     "metadata": {},
     "output_type": "execute_result"
    }
   ],
   "source": [
    "cl2.fprob('quick','good')"
   ]
  },
  {
   "cell_type": "markdown",
   "metadata": {},
   "source": [
    "### Starting with a Reasonable Guess"
   ]
  },
  {
   "cell_type": "code",
   "execution_count": 15,
   "metadata": {},
   "outputs": [],
   "source": [
    "class classifier3:\n",
    "    def __init__(self,getfeatures,filename=None):\n",
    "        # Counts of feature/category combinations\n",
    "        self.fc={}\n",
    "        # Counts of documents in each category\n",
    "        self.cc={}\n",
    "        self.getfeatures=getfeatures\n",
    "        \n",
    "    def train(self,item,cat):\n",
    "        features=self.getfeatures(item)\n",
    "        # Increment the count for every feature with this category\n",
    "        for f in features:\n",
    "            self.incf(f,cat)\n",
    "            \n",
    "        # Increment the count for this category\n",
    "        self.incc(cat)\n",
    "        \n",
    "    # Increase the count of a feature/category pair\n",
    "    def incf(self,f,cat):\n",
    "        self.fc.setdefault(f,{})\n",
    "        self.fc[f].setdefault(cat,0)\n",
    "        self.fc[f][cat]+=1\n",
    "        \n",
    "    # Increase the count of a category\n",
    "    def incc(self,cat):\n",
    "        self.cc.setdefault(cat,0)\n",
    "        self.cc[cat]+=1\n",
    "        \n",
    "    # The number of times a feature has appeared in a category\n",
    "    def fcount(self,f,cat):\n",
    "        if f in self.fc and cat in self.fc[f]:\n",
    "            return float(self.fc[f][cat])\n",
    "        return 0.0\n",
    "    \n",
    "    # The number of items in a category\n",
    "    def catcount(self,cat):\n",
    "        if cat in self.cc:\n",
    "            return float(self.cc[cat])\n",
    "        return 0\n",
    "    \n",
    "    # The total number of items\n",
    "    def totalcount(self):\n",
    "        return sum(self.cc.values())\n",
    "    \n",
    "    # The list of all categories\n",
    "    def categories(self):\n",
    "        return self.cc.keys()\n",
    "    \n",
    "    def fprob(self,f,cat):\n",
    "        if self.catcount(cat)==0: return 0\n",
    "            # The total number of times this feature appeared in this\n",
    "            # category divided by the total number of items in this category\n",
    "        return self.fcount(f,cat)/self.catcount(cat)\n",
    "    \n",
    "    def weightedprob(self,f,cat,prf,weight=1.0,ap=0.5):\n",
    "        # Calculate current probability\n",
    "        basicprob=prf(f,cat)\n",
    "        # Count the number of times this feature has appeared in\n",
    "        # all categories\n",
    "        totals=sum([self.fcount(f,c) for c in self.categories( )])\n",
    "        # Calculate the weighted average\n",
    "        bp=((weight*ap)+(totals*basicprob))/(weight+totals)\n",
    "        return bp\n",
    "    "
   ]
  },
  {
   "cell_type": "code",
   "execution_count": 16,
   "metadata": {},
   "outputs": [],
   "source": [
    "cl3 = classifier3(getwords)"
   ]
  },
  {
   "cell_type": "code",
   "execution_count": 17,
   "metadata": {},
   "outputs": [],
   "source": [
    "sampletrain(cl3)"
   ]
  },
  {
   "cell_type": "code",
   "execution_count": 18,
   "metadata": {},
   "outputs": [
    {
     "data": {
      "text/plain": [
       "0.25"
      ]
     },
     "execution_count": 18,
     "metadata": {},
     "output_type": "execute_result"
    }
   ],
   "source": [
    "cl3.weightedprob('money','good',cl3.fprob)"
   ]
  },
  {
   "cell_type": "code",
   "execution_count": 19,
   "metadata": {},
   "outputs": [],
   "source": [
    "sampletrain(cl3)"
   ]
  },
  {
   "cell_type": "code",
   "execution_count": 20,
   "metadata": {},
   "outputs": [
    {
     "data": {
      "text/plain": [
       "0.16666666666666666"
      ]
     },
     "execution_count": 20,
     "metadata": {},
     "output_type": "execute_result"
    }
   ],
   "source": [
    "cl3.weightedprob('money','good',cl3.fprob)"
   ]
  },
  {
   "cell_type": "markdown",
   "metadata": {},
   "source": [
    "## A Naïve Classifier you need a way to combine the individual word probabilities to get the probability that an entire document belongs in a given category."
   ]
  },
  {
   "cell_type": "markdown",
   "metadata": {},
   "source": [
    "Naïve Bayesian classifier: http://en.wikipedia.org/wiki/Naive_Bayes_classifier, Reference: http://blog.sragent.pe.kr/33"
   ]
  },
  {
   "cell_type": "markdown",
   "metadata": {},
   "source": [
    "### Probability of a Whole Document"
   ]
  },
  {
   "cell_type": "code",
   "execution_count": 21,
   "metadata": {},
   "outputs": [],
   "source": [
    "class naivebayes(classifier):\n",
    "    def __init__(self,getfeatures,filename=None):\n",
    "        # Counts of feature/category combinations\n",
    "        self.fc={}\n",
    "        # Counts of documents in each category\n",
    "        self.cc={}\n",
    "        self.getfeatures=getfeatures\n",
    "        \n",
    "    def train(self,item,cat):\n",
    "        features=self.getfeatures(item)\n",
    "        # Increment the count for every feature with this category\n",
    "        for f in features:\n",
    "            self.incf(f,cat)\n",
    "            \n",
    "        # Increment the count for this category\n",
    "        self.incc(cat)\n",
    "        \n",
    "    # Increase the count of a feature/category pair\n",
    "    def incf(self,f,cat):\n",
    "        self.fc.setdefault(f,{})\n",
    "        self.fc[f].setdefault(cat,0)\n",
    "        self.fc[f][cat]+=1\n",
    "        \n",
    "    # Increase the count of a category\n",
    "    def incc(self,cat):\n",
    "        self.cc.setdefault(cat,0)\n",
    "        self.cc[cat]+=1\n",
    "        \n",
    "    # The number of times a feature has appeared in a category\n",
    "    def fcount(self,f,cat):\n",
    "        if f in self.fc and cat in self.fc[f]:\n",
    "            return float(self.fc[f][cat])\n",
    "        return 0.0\n",
    "    \n",
    "    # The number of items in a category\n",
    "    def catcount(self,cat):\n",
    "        if cat in self.cc:\n",
    "            return float(self.cc[cat])\n",
    "        return 0\n",
    "    \n",
    "    # The total number of items\n",
    "    def totalcount(self):\n",
    "        return sum(self.cc.values())\n",
    "    \n",
    "    # The list of all categories\n",
    "    def categories(self):\n",
    "        return self.cc.keys()\n",
    "    \n",
    "    def fprob(self,f,cat):\n",
    "        if self.catcount(cat)==0: return 0\n",
    "            # The total number of times this feature appeared in this\n",
    "            # category divided by the total number of items in this category\n",
    "        return self.fcount(f,cat)/self.catcount(cat)\n",
    "    \n",
    "    def docprob(self,item,cat):\n",
    "        features=self.getfeatures(item)\n",
    "        \n",
    "        # Multiply the probabilities of all the features together\n",
    "        p=1\n",
    "        for f in features: p*=self.weightedprob(f,cat,self.fprob)\n",
    "        return p\n",
    "    \n",
    "    def prob(self,item,cat):\n",
    "        catprob=self.catcount(cat)/self.totalcount( )\n",
    "        docprob=self.docprob(item,cat)\n",
    "        return docprob*catprob\n",
    "    \n",
    "    \n",
    "    def weightedprob(self,f,cat,prf,weight=1.0,ap=0.5):\n",
    "        # Calculate current probability\n",
    "        basicprob=prf(f,cat)\n",
    "        # Count the number of times this feature has appeared in\n",
    "        # all categories\n",
    "        totals=sum([self.fcount(f,c) for c in self.categories( )])\n",
    "        # Calculate the weighted average\n",
    "        bp=((weight*ap)+(totals*basicprob))/(weight+totals)\n",
    "        return bp\n",
    "    "
   ]
  },
  {
   "cell_type": "markdown",
   "metadata": {},
   "source": [
    "### A Quick Introduction to Bayes’ Theorem"
   ]
  },
  {
   "cell_type": "raw",
   "metadata": {},
   "source": [
    "Bayes’ Theorem is a way of flipping around conditional probabilities. It’s usually written as:\n",
    "    Pr(A | B) = Pr(B | A) x Pr(A)/Pr(B)\n",
    "In the example, this becomes:\n",
    "    Pr(Category | Document) = Pr(Document | Category) x Pr(Category) /\n",
    "    Pr(Document)"
   ]
  },
  {
   "cell_type": "code",
   "execution_count": 22,
   "metadata": {},
   "outputs": [],
   "source": [
    "bl = naivebayes(getwords)"
   ]
  },
  {
   "cell_type": "code",
   "execution_count": 23,
   "metadata": {},
   "outputs": [],
   "source": [
    "sampletrain(bl)"
   ]
  },
  {
   "cell_type": "code",
   "execution_count": 24,
   "metadata": {},
   "outputs": [
    {
     "data": {
      "text/plain": [
       "0.15624999999999997"
      ]
     },
     "execution_count": 24,
     "metadata": {},
     "output_type": "execute_result"
    }
   ],
   "source": [
    "bl.prob('quick rabbit','good')"
   ]
  },
  {
   "cell_type": "code",
   "execution_count": 25,
   "metadata": {},
   "outputs": [
    {
     "data": {
      "text/plain": [
       "0.05"
      ]
     },
     "execution_count": 25,
     "metadata": {},
     "output_type": "execute_result"
    }
   ],
   "source": [
    "bl.prob('quick rabbit','bad')"
   ]
  },
  {
   "cell_type": "code",
   "execution_count": 26,
   "metadata": {},
   "outputs": [
    {
     "data": {
      "text/plain": [
       "0.0375"
      ]
     },
     "execution_count": 26,
     "metadata": {},
     "output_type": "execute_result"
    }
   ],
   "source": [
    "bl.prob('money casino','good')"
   ]
  },
  {
   "cell_type": "code",
   "execution_count": 27,
   "metadata": {},
   "outputs": [
    {
     "data": {
      "text/plain": [
       "0.1"
      ]
     },
     "execution_count": 27,
     "metadata": {},
     "output_type": "execute_result"
    }
   ],
   "source": [
    "bl.prob('money casino','bad')"
   ]
  },
  {
   "cell_type": "markdown",
   "metadata": {},
   "source": [
    "### Choosing a Category"
   ]
  },
  {
   "cell_type": "code",
   "execution_count": 28,
   "metadata": {},
   "outputs": [],
   "source": [
    "class naivebayes2(classifier):\n",
    "    def __init__(self,getfeatures):\n",
    "        classifier.__init__(self,getfeatures)\n",
    "        self.thresholds={}\n",
    "        \n",
    "    def setthreshold(self,cat,t):\n",
    "        self.thresholds[cat]=t\n",
    "        \n",
    "    def getthreshold(self,cat):\n",
    "        if cat not in self.thresholds: return 1.0\n",
    "        return self.thresholds[cat]\n",
    "        \n",
    "    def train(self,item,cat):\n",
    "        features=self.getfeatures(item)\n",
    "        # Increment the count for every feature with this category\n",
    "        for f in features:\n",
    "            self.incf(f,cat)\n",
    "            \n",
    "        # Increment the count for this category\n",
    "        self.incc(cat)\n",
    "        \n",
    "    # Increase the count of a feature/category pair\n",
    "    def incf(self,f,cat):\n",
    "        self.fc.setdefault(f,{})\n",
    "        self.fc[f].setdefault(cat,0)\n",
    "        self.fc[f][cat]+=1\n",
    "        \n",
    "    # Increase the count of a category\n",
    "    def incc(self,cat):\n",
    "        self.cc.setdefault(cat,0)\n",
    "        self.cc[cat]+=1\n",
    "        \n",
    "    # The number of times a feature has appeared in a category\n",
    "    def fcount(self,f,cat):\n",
    "        if f in self.fc and cat in self.fc[f]:\n",
    "            return float(self.fc[f][cat])\n",
    "        return 0.0\n",
    "    \n",
    "    # The number of items in a category\n",
    "    def catcount(self,cat):\n",
    "        if cat in self.cc:\n",
    "            return float(self.cc[cat])\n",
    "        return 0\n",
    "    \n",
    "    # The total number of items\n",
    "    def totalcount(self):\n",
    "        return sum(self.cc.values())\n",
    "    \n",
    "    # The list of all categories\n",
    "    def categories(self):\n",
    "        return self.cc.keys()\n",
    "    \n",
    "    def fprob(self,f,cat):\n",
    "        if self.catcount(cat)==0: return 0\n",
    "            # The total number of times this feature appeared in this\n",
    "            # category divided by the total number of items in this category\n",
    "        return self.fcount(f,cat)/self.catcount(cat)\n",
    "    \n",
    "    def docprob(self,item,cat):\n",
    "        features=self.getfeatures(item)\n",
    "        \n",
    "        # Multiply the probabilities of all the features together\n",
    "        p=1\n",
    "        for f in features: p*=self.weightedprob(f,cat,self.fprob)\n",
    "        return p\n",
    "    \n",
    "    def prob(self,item,cat):\n",
    "        catprob=self.catcount(cat)/self.totalcount( )\n",
    "        docprob=self.docprob(item,cat)\n",
    "        return docprob*catprob\n",
    "    \n",
    "    \n",
    "    def weightedprob(self,f,cat,prf,weight=1.0,ap=0.5):\n",
    "        # Calculate current probability\n",
    "        basicprob=prf(f,cat)\n",
    "        # Count the number of times this feature has appeared in\n",
    "        # all categories\n",
    "        totals=sum([self.fcount(f,c) for c in self.categories( )])\n",
    "        # Calculate the weighted average\n",
    "        bp=((weight*ap)+(totals*basicprob))/(weight+totals)\n",
    "        return bp\n",
    "    \n",
    "    def classify(self,item,default=None):\n",
    "        probs={}\n",
    "        # Find the category with the highest probability\n",
    "        \n",
    "        max=0.0\n",
    "        for cat in self.categories( ):\n",
    "            probs[cat]=self.prob(item,cat)            \n",
    "            if probs[cat]>max:\n",
    "                max=probs[cat]\n",
    "            best=cat\n",
    "        \n",
    "        # Make sure the probability exceeds threshold*next best\n",
    "        for cat in probs:\n",
    "            if cat==best: continue\n",
    "            if probs[cat]*self.getthreshold(best)>probs[best]: return default\n",
    "        return best    "
   ]
  },
  {
   "cell_type": "code",
   "execution_count": 29,
   "metadata": {},
   "outputs": [],
   "source": [
    "bl2 = naivebayes2(getwords)"
   ]
  },
  {
   "cell_type": "code",
   "execution_count": 30,
   "metadata": {},
   "outputs": [
    {
     "name": "stdout",
     "output_type": "stream",
     "text": [
      "Looking in indexes: http://aicentro-nexus-svc.aicentro-system:8081/hub-nexus/repository/pypi-group/simple\n",
      "Requirement already up-to-date: absl-py in /usr/local/lib/python3.6/dist-packages (0.10.0)\n",
      "Requirement already satisfied, skipping upgrade: six in /usr/local/lib/python3.6/dist-packages (from absl-py) (1.14.0)\n",
      "\u001b[33mWARNING: You are using pip version 20.1; however, version 20.2.3 is available.\n",
      "You should consider upgrading via the '/usr/bin/python3 -m pip install --upgrade pip' command.\u001b[0m\n"
     ]
    }
   ],
   "source": [
    "import warnings\n",
    "warnings.simplefilter(action='ignore', category=FutureWarning)\n",
    "!pip install --upgrade absl-py"
   ]
  },
  {
   "cell_type": "code",
   "execution_count": 31,
   "metadata": {},
   "outputs": [],
   "source": [
    "sampletrain(bl2)"
   ]
  },
  {
   "cell_type": "code",
   "execution_count": 32,
   "metadata": {},
   "outputs": [
    {
     "data": {
      "text/plain": [
       "'unknown'"
      ]
     },
     "execution_count": 32,
     "metadata": {},
     "output_type": "execute_result"
    }
   ],
   "source": [
    "bl2.classify('quick rabbit',default='unknown')"
   ]
  },
  {
   "cell_type": "code",
   "execution_count": 33,
   "metadata": {},
   "outputs": [
    {
     "data": {
      "text/plain": [
       "'bad'"
      ]
     },
     "execution_count": 33,
     "metadata": {},
     "output_type": "execute_result"
    }
   ],
   "source": [
    "bl2.classify('quick money',default='unknown')"
   ]
  },
  {
   "cell_type": "code",
   "execution_count": 34,
   "metadata": {},
   "outputs": [],
   "source": [
    "bl2.setthreshold('bad',3.0)"
   ]
  },
  {
   "cell_type": "code",
   "execution_count": 35,
   "metadata": {},
   "outputs": [
    {
     "data": {
      "text/plain": [
       "'unknown'"
      ]
     },
     "execution_count": 35,
     "metadata": {},
     "output_type": "execute_result"
    }
   ],
   "source": [
    "bl2.classify('quick money',default='unknown')"
   ]
  },
  {
   "cell_type": "code",
   "execution_count": 36,
   "metadata": {},
   "outputs": [
    {
     "data": {
      "text/plain": [
       "'unknown'"
      ]
     },
     "execution_count": 36,
     "metadata": {},
     "output_type": "execute_result"
    }
   ],
   "source": [
    "bl2.classify('quick money',default='unknown')"
   ]
  },
  {
   "cell_type": "code",
   "execution_count": 37,
   "metadata": {},
   "outputs": [],
   "source": [
    "for i in range(10):\n",
    "    sampletrain(bl2)"
   ]
  },
  {
   "cell_type": "code",
   "execution_count": 38,
   "metadata": {},
   "outputs": [
    {
     "data": {
      "text/plain": [
       "'bad'"
      ]
     },
     "execution_count": 38,
     "metadata": {},
     "output_type": "execute_result"
    }
   ],
   "source": [
    "bl2.classify('quick money',default='unknown')"
   ]
  },
  {
   "cell_type": "markdown",
   "metadata": {},
   "source": [
    "### The Fisher Method "
   ]
  },
  {
   "cell_type": "markdown",
   "metadata": {},
   "source": [
    "#### alternative method that’s been shown to give very accurate results, particularly for spam filtering."
   ]
  },
  {
   "cell_type": "raw",
   "metadata": {},
   "source": [
    "Unlike the naïve Bayesian filter, which uses the feature probabilities to create a whole document probability, the Fisher method calculates the probability of a category for each feature in the document, then combines the probabilities and tests probabilities is more or less likely than a random set."
   ]
  },
  {
   "cell_type": "markdown",
   "metadata": {},
   "source": [
    "### Category Probabilities for Features"
   ]
  },
  {
   "cell_type": "raw",
   "metadata": {},
   "source": [
    "To perform this normalization, the method calculates three things:\n",
    "• clf = Pr(feature | category) for this category\n",
    "• freqsum = Sum of Pr(feature | category) for all the categories\n",
    "• cprob = clf / (clf+nclf)"
   ]
  },
  {
   "cell_type": "code",
   "execution_count": 39,
   "metadata": {},
   "outputs": [],
   "source": [
    "class fisherclassifier(classifier):\n",
    "    def __init__(self,getfeatures):\n",
    "        classifier.__init__(self,getfeatures)\n",
    "        self.thresholds={}\n",
    "        \n",
    "    def setthreshold(self,cat,t):\n",
    "        self.thresholds[cat]=t\n",
    "        \n",
    "    def getthreshold(self,cat):\n",
    "        if cat not in self.thresholds: return 1.0\n",
    "        return self.thresholds[cat]\n",
    "        \n",
    "    def train(self,item,cat):\n",
    "        features=self.getfeatures(item)\n",
    "        # Increment the count for every feature with this category\n",
    "        for f in features:\n",
    "            self.incf(f,cat)\n",
    "            \n",
    "        # Increment the count for this category\n",
    "        self.incc(cat)\n",
    "        \n",
    "    # Increase the count of a feature/category pair\n",
    "    def incf(self,f,cat):\n",
    "        self.fc.setdefault(f,{})\n",
    "        self.fc[f].setdefault(cat,0)\n",
    "        self.fc[f][cat]+=1\n",
    "        \n",
    "    # Increase the count of a category\n",
    "    def incc(self,cat):\n",
    "        self.cc.setdefault(cat,0)\n",
    "        self.cc[cat]+=1\n",
    "        \n",
    "    # The number of times a feature has appeared in a category\n",
    "    def fcount(self,f,cat):\n",
    "        if f in self.fc and cat in self.fc[f]:\n",
    "            return float(self.fc[f][cat])\n",
    "        return 0.0\n",
    "    \n",
    "    # The number of items in a category\n",
    "    def catcount(self,cat):\n",
    "        if cat in self.cc:\n",
    "            return float(self.cc[cat])\n",
    "        return 0\n",
    "    \n",
    "    # The total number of items\n",
    "    def totalcount(self):\n",
    "        return sum(self.cc.values())\n",
    "    \n",
    "    # The list of all categories\n",
    "    def categories(self):\n",
    "        return self.cc.keys()\n",
    "    \n",
    "    def fprob(self,f,cat):\n",
    "        if self.catcount(cat)==0: return 0\n",
    "            # The total number of times this feature appeared in this\n",
    "            # category divided by the total number of items in this category\n",
    "        return self.fcount(f,cat)/self.catcount(cat)\n",
    "    \n",
    "    def cprob(self,f,cat):\n",
    "        # The frequency of this feature in this category\n",
    "        clf=self.fprob(f,cat)\n",
    "        if clf==0: return 0\n",
    "        \n",
    "        # The frequency of this feature in all the categories\n",
    "        freqsum=sum([self.fprob(f,c) for c in self.categories( )])\n",
    "        \n",
    "        # The probability is the frequency in this category divided by\n",
    "        # the overall frequency\n",
    "        p=clf/(freqsum)\n",
    "        return p\n",
    "    \n",
    "    \n",
    "    def weightedprob(self,f,cat,prf,weight=1.0,ap=0.5):\n",
    "        # Calculate current probability\n",
    "        basicprob=prf(f,cat)\n",
    "        # Count the number of times this feature has appeared in\n",
    "        # all categories\n",
    "        totals=sum([self.fcount(f,c) for c in self.categories( )])\n",
    "        # Calculate the weighted average\n",
    "        bp=((weight*ap)+(totals*basicprob))/(weight+totals)\n",
    "        return bp"
   ]
  },
  {
   "cell_type": "code",
   "execution_count": 40,
   "metadata": {},
   "outputs": [],
   "source": [
    "fl = fisherclassifier(getwords)"
   ]
  },
  {
   "cell_type": "code",
   "execution_count": 41,
   "metadata": {},
   "outputs": [],
   "source": [
    "sampletrain(fl)"
   ]
  },
  {
   "cell_type": "code",
   "execution_count": 42,
   "metadata": {},
   "outputs": [
    {
     "data": {
      "text/plain": [
       "0.5714285714285715"
      ]
     },
     "execution_count": 42,
     "metadata": {},
     "output_type": "execute_result"
    }
   ],
   "source": [
    "fl.cprob('quick','good')"
   ]
  },
  {
   "cell_type": "code",
   "execution_count": 43,
   "metadata": {},
   "outputs": [
    {
     "data": {
      "text/plain": [
       "1.0"
      ]
     },
     "execution_count": 43,
     "metadata": {},
     "output_type": "execute_result"
    }
   ],
   "source": [
    "fl.cprob('money','bad')"
   ]
  },
  {
   "cell_type": "code",
   "execution_count": 44,
   "metadata": {},
   "outputs": [
    {
     "data": {
      "text/plain": [
       "0.75"
      ]
     },
     "execution_count": 44,
     "metadata": {},
     "output_type": "execute_result"
    }
   ],
   "source": [
    "fl.weightedprob('money','bad',fl.cprob)"
   ]
  },
  {
   "cell_type": "markdown",
   "metadata": {},
   "source": [
    "### Combining the Probabilities"
   ]
  },
  {
   "cell_type": "code",
   "execution_count": 45,
   "metadata": {},
   "outputs": [],
   "source": [
    "def fisherprob(self,item,cat):\n",
    "    # Multiply all the probabilities together\n",
    "    p=1\n",
    "    features=self.getfeatures(item)\n",
    "    for f in features:\n",
    "        p*=(self.weightedprob(f,cat,self.cprob))\n",
    "        \n",
    "    # Take the natural log and multiply by -2\n",
    "    fscore=-2*math.log(p)\n",
    "    \n",
    "    # Use the inverse chi2 function to get a probability\n",
    "    return self.invchi2(fscore,len(features)*2)"
   ]
  },
  {
   "cell_type": "code",
   "execution_count": 46,
   "metadata": {},
   "outputs": [],
   "source": [
    "def invchi2(self,chi,df):\n",
    "    m = chi / 2.0\n",
    "    sum = term = math.exp(-m)\n",
    "    for i in range(1, df//2):\n",
    "        term *= m / i\n",
    "        sum += term\n",
    "    return min(sum, 1.0)"
   ]
  },
  {
   "cell_type": "code",
   "execution_count": 47,
   "metadata": {},
   "outputs": [],
   "source": [
    "class fisherclassifier2(classifier):\n",
    "    def __init__(self,getfeatures):\n",
    "        classifier.__init__(self,getfeatures)\n",
    "        self.thresholds={}\n",
    "        \n",
    "    def setthreshold(self,cat,t):\n",
    "        self.thresholds[cat]=t\n",
    "        \n",
    "    def getthreshold(self,cat):\n",
    "        if cat not in self.thresholds: return 1.0\n",
    "        return self.thresholds[cat]\n",
    "        \n",
    "    def train(self,item,cat):\n",
    "        features=self.getfeatures(item)\n",
    "        # Increment the count for every feature with this category\n",
    "        for f in features:\n",
    "            self.incf(f,cat)\n",
    "            \n",
    "        # Increment the count for this category\n",
    "        self.incc(cat)\n",
    "        \n",
    "    # Increase the count of a feature/category pair\n",
    "    def incf(self,f,cat):\n",
    "        self.fc.setdefault(f,{})\n",
    "        self.fc[f].setdefault(cat,0)\n",
    "        self.fc[f][cat]+=1\n",
    "        \n",
    "    # Increase the count of a category\n",
    "    def incc(self,cat):\n",
    "        self.cc.setdefault(cat,0)\n",
    "        self.cc[cat]+=1\n",
    "        \n",
    "    # The number of times a feature has appeared in a category\n",
    "    def fcount(self,f,cat):\n",
    "        if f in self.fc and cat in self.fc[f]:\n",
    "            return float(self.fc[f][cat])\n",
    "        return 0.0\n",
    "    \n",
    "    # The number of items in a category\n",
    "    def catcount(self,cat):\n",
    "        if cat in self.cc:\n",
    "            return float(self.cc[cat])\n",
    "        return 0\n",
    "    \n",
    "    # The total number of items\n",
    "    def totalcount(self):\n",
    "        return sum(self.cc.values())\n",
    "    \n",
    "    # The list of all categories\n",
    "    def categories(self):\n",
    "        return self.cc.keys()\n",
    "    \n",
    "    def fprob(self,f,cat):\n",
    "        if self.catcount(cat)==0: return 0\n",
    "            # The total number of times this feature appeared in this\n",
    "            # category divided by the total number of items in this category\n",
    "        return self.fcount(f,cat)/self.catcount(cat)\n",
    "    \n",
    "    def cprob(self,f,cat):\n",
    "        # The frequency of this feature in this category\n",
    "        clf=self.fprob(f,cat)\n",
    "        if clf==0: return 0\n",
    "        \n",
    "        # The frequency of this feature in all the categories\n",
    "        freqsum=sum([self.fprob(f,c) for c in self.categories( )])\n",
    "        \n",
    "        # The probability is the frequency in this category divided by\n",
    "        # the overall frequency\n",
    "        p=clf/(freqsum)\n",
    "        return p\n",
    "    \n",
    "    \n",
    "    def weightedprob(self,f,cat,prf,weight=1.0,ap=0.5):\n",
    "        # Calculate current probability\n",
    "        basicprob=prf(f,cat)\n",
    "        # Count the number of times this feature has appeared in\n",
    "        # all categories\n",
    "        totals=sum([self.fcount(f,c) for c in self.categories( )])\n",
    "        # Calculate the weighted average\n",
    "        bp=((weight*ap)+(totals*basicprob))/(weight+totals)\n",
    "        return bp\n",
    "    \n",
    "    def fisherprob(self,item,cat):\n",
    "        # Multiply all the probabilities together\n",
    "        p=1\n",
    "        features=self.getfeatures(item)\n",
    "        for f in features:\n",
    "            p*=(self.weightedprob(f,cat,self.cprob))\n",
    "            \n",
    "        # Take the natural log and multiply by -2\n",
    "        fscore=-2*math.log(p)\n",
    "        \n",
    "        # Use the inverse chi2 function to get a probability\n",
    "        return self.invchi2(fscore,len(features)*2)\n",
    "\n",
    "    def invchi2(self,chi,df):\n",
    "        m = chi / 2.0\n",
    "        sum = term = math.exp(-m)\n",
    "        for i in range(1, df//2):\n",
    "            term *= m / i\n",
    "            sum += term\n",
    "        return min(sum, 1.0)"
   ]
  },
  {
   "cell_type": "code",
   "execution_count": 48,
   "metadata": {},
   "outputs": [],
   "source": [
    "fl2 = fisherclassifier2(getwords)"
   ]
  },
  {
   "cell_type": "code",
   "execution_count": 49,
   "metadata": {},
   "outputs": [],
   "source": [
    "sampletrain(fl2)"
   ]
  },
  {
   "cell_type": "code",
   "execution_count": 50,
   "metadata": {},
   "outputs": [
    {
     "data": {
      "text/plain": [
       "0.5714285714285715"
      ]
     },
     "execution_count": 50,
     "metadata": {},
     "output_type": "execute_result"
    }
   ],
   "source": [
    "fl.cprob('quick','good')"
   ]
  },
  {
   "cell_type": "code",
   "execution_count": 51,
   "metadata": {},
   "outputs": [
    {
     "data": {
      "text/plain": [
       "0.78013986588958"
      ]
     },
     "execution_count": 51,
     "metadata": {},
     "output_type": "execute_result"
    }
   ],
   "source": [
    "fl2.fisherprob('quick rabbit','good')"
   ]
  },
  {
   "cell_type": "code",
   "execution_count": 52,
   "metadata": {},
   "outputs": [
    {
     "data": {
      "text/plain": [
       "0.35633596283335256"
      ]
     },
     "execution_count": 52,
     "metadata": {},
     "output_type": "execute_result"
    }
   ],
   "source": [
    "fl2.fisherprob('quick rabbit','bad')"
   ]
  },
  {
   "cell_type": "markdown",
   "metadata": {},
   "source": [
    "### Classifying Items"
   ]
  },
  {
   "cell_type": "code",
   "execution_count": 53,
   "metadata": {},
   "outputs": [],
   "source": [
    "class fisherclassifier3(classifier):\n",
    "    def __init__(self,getfeatures):\n",
    "        classifier.__init__(self,getfeatures)\n",
    "        self.minimums={}\n",
    "    \n",
    "    def setminimum(self,cat,min):\n",
    "        self.minimums[cat]=min\n",
    "    \n",
    "    def getminimum(self,cat):\n",
    "        if cat not in self.minimums: return 0\n",
    "        return self.minimums[cat]\n",
    "\n",
    "    def setthreshold(self,cat,t):\n",
    "        self.thresholds[cat]=t\n",
    "        \n",
    "    def getthreshold(self,cat):\n",
    "        if cat not in self.thresholds: return 1.0\n",
    "        return self.thresholds[cat]\n",
    "        \n",
    "    def train(self,item,cat):\n",
    "        features=self.getfeatures(item)\n",
    "        # Increment the count for every feature with this category\n",
    "        for f in features:\n",
    "            self.incf(f,cat)\n",
    "            \n",
    "        # Increment the count for this category\n",
    "        self.incc(cat)\n",
    "        \n",
    "    # Increase the count of a feature/category pair\n",
    "    def incf(self,f,cat):\n",
    "        self.fc.setdefault(f,{})\n",
    "        self.fc[f].setdefault(cat,0)\n",
    "        self.fc[f][cat]+=1\n",
    "        \n",
    "    # Increase the count of a category\n",
    "    def incc(self,cat):\n",
    "        self.cc.setdefault(cat,0)\n",
    "        self.cc[cat]+=1\n",
    "        \n",
    "    # The number of times a feature has appeared in a category\n",
    "    def fcount(self,f,cat):\n",
    "        if f in self.fc and cat in self.fc[f]:\n",
    "            return float(self.fc[f][cat])\n",
    "        return 0.0\n",
    "    \n",
    "    # The number of items in a category\n",
    "    def catcount(self,cat):\n",
    "        if cat in self.cc:\n",
    "            return float(self.cc[cat])\n",
    "        return 0\n",
    "    \n",
    "    # The total number of items\n",
    "    def totalcount(self):\n",
    "        return sum(self.cc.values())\n",
    "    \n",
    "    # The list of all categories\n",
    "    def categories(self):\n",
    "        return self.cc.keys()\n",
    "    \n",
    "    def fprob(self,f,cat):\n",
    "        if self.catcount(cat)==0: return 0\n",
    "            # The total number of times this feature appeared in this\n",
    "            # category divided by the total number of items in this category\n",
    "        return self.fcount(f,cat)/self.catcount(cat)\n",
    "    \n",
    "    def cprob(self,f,cat):\n",
    "        # The frequency of this feature in this category\n",
    "        clf=self.fprob(f,cat)\n",
    "        if clf==0: return 0\n",
    "        \n",
    "        # The frequency of this feature in all the categories\n",
    "        freqsum=sum([self.fprob(f,c) for c in self.categories( )])\n",
    "        \n",
    "        # The probability is the frequency in this category divided by\n",
    "        # the overall frequency\n",
    "        p=clf/(freqsum)\n",
    "        return p\n",
    "        \n",
    "    def weightedprob(self,f,cat,prf,weight=1.0,ap=0.5):\n",
    "        # Calculate current probability\n",
    "        basicprob=prf(f,cat)\n",
    "        # Count the number of times this feature has appeared in\n",
    "        # all categories\n",
    "        totals=sum([self.fcount(f,c) for c in self.categories( )])\n",
    "        # Calculate the weighted average\n",
    "        bp=((weight*ap)+(totals*basicprob))/(weight+totals)\n",
    "        return bp\n",
    "    \n",
    "    def fisherprob(self,item,cat):\n",
    "        # Multiply all the probabilities together\n",
    "        p=1\n",
    "        features=self.getfeatures(item)\n",
    "        for f in features:\n",
    "            p*=(self.weightedprob(f,cat,self.cprob))\n",
    "            \n",
    "        # Take the natural log and multiply by -2\n",
    "        fscore=-2*math.log(p)\n",
    "        \n",
    "        # Use the inverse chi2 function to get a probability\n",
    "        return self.invchi2(fscore,len(features)*2)\n",
    "\n",
    "    def invchi2(self,chi,df):\n",
    "        m = chi / 2.0\n",
    "        sum = term = math.exp(-m)\n",
    "        for i in range(1, df//2):\n",
    "            term *= m / i\n",
    "            sum += term\n",
    "        return min(sum, 1.0)\n",
    "\n",
    "    def classify(self,item,default=None):\n",
    "        # Loop through looking for the best result\n",
    "        best=default\n",
    "        max=0.0\n",
    "        for c in self.categories( ):\n",
    "            p=self.fisherprob(item,c)\n",
    "            \n",
    "            # Make sure it exceeds its minimum\n",
    "            if p>self.getminimum(c) and p>max:\n",
    "                best=c\n",
    "                max=p\n",
    "        return best"
   ]
  },
  {
   "cell_type": "code",
   "execution_count": 54,
   "metadata": {},
   "outputs": [],
   "source": [
    "fl3 = fisherclassifier3(getwords)"
   ]
  },
  {
   "cell_type": "code",
   "execution_count": 55,
   "metadata": {},
   "outputs": [],
   "source": [
    "sampletrain(fl3)"
   ]
  },
  {
   "cell_type": "code",
   "execution_count": 56,
   "metadata": {},
   "outputs": [
    {
     "data": {
      "text/plain": [
       "'good'"
      ]
     },
     "execution_count": 56,
     "metadata": {},
     "output_type": "execute_result"
    }
   ],
   "source": [
    "fl3.classify('quick rabbit')"
   ]
  },
  {
   "cell_type": "code",
   "execution_count": 57,
   "metadata": {},
   "outputs": [
    {
     "data": {
      "text/plain": [
       "'bad'"
      ]
     },
     "execution_count": 57,
     "metadata": {},
     "output_type": "execute_result"
    }
   ],
   "source": [
    "fl3.classify('quick money')"
   ]
  },
  {
   "cell_type": "code",
   "execution_count": 58,
   "metadata": {},
   "outputs": [],
   "source": [
    "fl3.setminimum('bad',0.8)"
   ]
  },
  {
   "cell_type": "code",
   "execution_count": 59,
   "metadata": {},
   "outputs": [
    {
     "data": {
      "text/plain": [
       "'good'"
      ]
     },
     "execution_count": 59,
     "metadata": {},
     "output_type": "execute_result"
    }
   ],
   "source": [
    "fl3.classify('quick money')"
   ]
  },
  {
   "cell_type": "code",
   "execution_count": 60,
   "metadata": {},
   "outputs": [],
   "source": [
    "fl3.setminimum('good',0.4)"
   ]
  },
  {
   "cell_type": "code",
   "execution_count": 61,
   "metadata": {},
   "outputs": [
    {
     "data": {
      "text/plain": [
       "'good'"
      ]
     },
     "execution_count": 61,
     "metadata": {},
     "output_type": "execute_result"
    }
   ],
   "source": [
    "fl3.classify('quick money')"
   ]
  },
  {
   "cell_type": "markdown",
   "metadata": {},
   "source": [
    "### Persisting the Trained Classifiers, Using SQLite"
   ]
  },
  {
   "cell_type": "code",
   "execution_count": 62,
   "metadata": {},
   "outputs": [],
   "source": [
    "from sqlite3 import dbapi2 as sqlite"
   ]
  },
  {
   "cell_type": "code",
   "execution_count": 63,
   "metadata": {},
   "outputs": [],
   "source": [
    "def setdb(self,dbfile):\n",
    "    self.con=sqlite.connect(dbfile)\n",
    "    self.con.execute('create table if not exists fc(feature,category,count)')\n",
    "    self.con.execute('create table if not exists cc(category,count)')"
   ]
  },
  {
   "cell_type": "code",
   "execution_count": 64,
   "metadata": {},
   "outputs": [],
   "source": [
    "def incf(self,f,cat):\n",
    "    count=self.fcount(f,cat)\n",
    "    if count==0:\n",
    "        self.con.execute(\"insert into fc values ('%s','%s',1)\"% (f,cat))\n",
    "    else:\n",
    "        self.con.execute(\"update fc set count=%d where feature='%s' and category='%s'\"% (count+1,f,cat))\n",
    "\n",
    "def fcount(self,f,cat):\n",
    "    res=self.con.execute('select count from fc where feature=\"%s\" and category=\"%s\"'%(f,cat)).fetchone( )\n",
    "    if res==None: return 0\n",
    "    else: return float(res[0])\n",
    "    \n",
    "def incc(self,cat):\n",
    "    count=self.catcount(cat)\n",
    "    if count==0:\n",
    "        self.con.execute(\"insert into cc values ('%s',1)\" % (cat))\n",
    "    else:\n",
    "        self.con.execute(\"update cc set count=%d where category='%s'\" % (count+1,cat))\n",
    "    \n",
    "def catcount(self,cat):\n",
    "    res=self.con.execute('select count from cc where category=\"%s\"' %(cat)).fetchone( )\n",
    "    if res==None: return 0\n",
    "    else: return float(res[0])\n",
    "    \n",
    "def categories(self):\n",
    "    cur=self.con.execute('select category from cc');\n",
    "    return [d[0] for d in cur]\n",
    "\n",
    "def totalcount(self):\n",
    "    res=self.con.execute('select sum(count) from cc').fetchone( );\n",
    "    if res==None: return 0\n",
    "    return res[0]"
   ]
  },
  {
   "cell_type": "raw",
   "metadata": {},
   "source": [
    "Add this line to the end of the train method in classifier:\n",
    "self.con.commit( )"
   ]
  }
 ],
 "metadata": {
  "kernelspec": {
   "display_name": "Python 3",
   "language": "python",
   "name": "python3"
  },
  "language_info": {
   "codemirror_mode": {
    "name": "ipython",
    "version": 3
   },
   "file_extension": ".py",
   "mimetype": "text/x-python",
   "name": "python",
   "nbconvert_exporter": "python",
   "pygments_lexer": "ipython3",
   "version": "3.6.9"
  }
 },
 "nbformat": 4,
 "nbformat_minor": 4
}
